{
  "nbformat": 4,
  "nbformat_minor": 5,
  "metadata": {
    "kernelspec": {
      "display_name": "Python 3",
      "language": "python",
      "name": "python3"
    },
    "language_info": {
      "codemirror_mode": {
        "name": "ipython",
        "version": 3
      },
      "file_extension": ".py",
      "mimetype": "text/x-python",
      "name": "python",
      "nbconvert_exporter": "python",
      "pygments_lexer": "ipython3",
      "version": "3.8.3"
    },
    "colab": {
      "name": "Task-4.ipynb",
      "provenance": [],
      "include_colab_link": true
    }
  },
  "cells": [
    {
      "cell_type": "markdown",
      "metadata": {
        "id": "view-in-github",
        "colab_type": "text"
      },
      "source": [
        "<a href=\"https://colab.research.google.com/github/Abhishek-009/Innomatics-labs-april_21/blob/main/Task_4.ipynb\" target=\"_parent\"><img src=\"https://colab.research.google.com/assets/colab-badge.svg\" alt=\"Open In Colab\"/></a>"
      ]
    },
    {
      "cell_type": "code",
      "metadata": {
        "colab": {
          "base_uri": "https://localhost:8080/"
        },
        "id": "7b3cad7b",
        "outputId": "07cb42eb-55e5-408b-88de-5650aae2b79e"
      },
      "source": [
        "#sWaP CaSe\n",
        "def swap_case(s):\n",
        "    a=[]\n",
        "    for i in range(len(s)):\n",
        "        a.append( s[i].swapcase())\n",
        "    return ''.join(a)\n",
        "if __name__ == '__main__':\n",
        "    s = str(input())\n",
        "    result = swap_case(s)\n",
        "    print(result)"
      ],
      "id": "7b3cad7b",
      "execution_count": 1,
      "outputs": [
        {
          "output_type": "stream",
          "text": [
            "aBhiSHEk\n",
            "AbHIsheK\n"
          ],
          "name": "stdout"
        }
      ]
    },
    {
      "cell_type": "code",
      "metadata": {
        "colab": {
          "base_uri": "https://localhost:8080/"
        },
        "id": "69f46b7e",
        "outputId": "ed0fb5ed-7c25-4ab0-d4b5-7dedd4f023f1"
      },
      "source": [
        "#question 2 String Split and Join\n",
        "def split_and_join(line):\n",
        "    line=line.split(' ')\n",
        "    return \"-\".join(line)\n",
        "if __name__ == '__main__':\n",
        "    line = input()\n",
        "    result = split_and_join(line)\n",
        "    print(result)"
      ],
      "id": "69f46b7e",
      "execution_count": 2,
      "outputs": [
        {
          "output_type": "stream",
          "text": [
            "AbhishekSHARMA\n",
            "AbhishekSHARMA\n"
          ],
          "name": "stdout"
        }
      ]
    },
    {
      "cell_type": "code",
      "metadata": {
        "colab": {
          "base_uri": "https://localhost:8080/"
        },
        "id": "3a3f852f",
        "outputId": "c88169b8-b6e0-47e2-ca2d-dcb8269d2007"
      },
      "source": [
        "#Question 3 What's your name?\n",
        "def print_full_name(first, last):\n",
        "    # Write your code here\n",
        "    print( 'Hello {} {}! You just delved into python.'.format(first,last))\n",
        "if __name__ == '__main__':\n",
        "    first_name = input()\n",
        "    last_name = input()\n",
        "    print_full_name(first_name, last_name)"
      ],
      "id": "3a3f852f",
      "execution_count": 3,
      "outputs": [
        {
          "output_type": "stream",
          "text": [
            "ABHISHekSharma\n",
            "Sharma\n",
            "Hello ABHISHekSharma Sharma! You just delved into python.\n"
          ],
          "name": "stdout"
        }
      ]
    },
    {
      "cell_type": "code",
      "metadata": {
        "id": "01746971"
      },
      "source": [
        "#Question 4 Mutations\n",
        "def mutate_string(string, position, character):\n",
        "    return string[:position]+character+string[position+1:]\n",
        "\n",
        "if __name__ == '__main__':\n",
        "    s = input()\n",
        "    i, c = input().split()\n",
        "    s_new = mutate_string(s, int(i), c)\n",
        "    print(s_new)"
      ],
      "id": "01746971",
      "execution_count": null,
      "outputs": []
    },
    {
      "cell_type": "code",
      "metadata": {
        "id": "870b2015"
      },
      "source": [
        "#Question 5 Find a string\n",
        "def count_substring(string, sub_string):\n",
        "    count=0\n",
        "    for i in range(len(string)):\n",
        "        if sub_string[:len(sub_string)] == string[i:i+len(sub_string)]:\n",
        "             count=count+1\n",
        "    return count\n",
        "    \n",
        "\n",
        "if __name__ == '__main__':\n",
        "    string = input().strip()\n",
        "    sub_string = input().strip()\n",
        "    \n",
        "    count = count_substring(string, sub_string)\n",
        "    print(count)"
      ],
      "id": "870b2015",
      "execution_count": null,
      "outputs": []
    },
    {
      "cell_type": "code",
      "metadata": {
        "id": "208cb9a1",
        "outputId": "a90ea51f-a147-40fa-d8d3-52a447b04241"
      },
      "source": [
        "#question 6 String Validators\n",
        "if __name__ == '__main__':\n",
        "    s = input()\n",
        "    print(any(i.isalnum() for i in s))\n",
        "    print(any(i.isalpha() for i in s))\n",
        "    print(any(i.isdigit() for i in s))\n",
        "    print(any(i.islower() for i in s))\n",
        "    print(any(i.isupper() for i in s))"
      ],
      "id": "208cb9a1",
      "execution_count": null,
      "outputs": [
        {
          "output_type": "stream",
          "text": [
            " ThIsisCoNfUsInG\n"
          ],
          "name": "stdin"
        }
      ]
    },
    {
      "cell_type": "code",
      "metadata": {
        "id": "5db8eebf"
      },
      "source": [
        "#Question 7 Text alignment\n",
        "thickness = int(input()) #This must be an odd number\n",
        "c = 'H'\n",
        "\n",
        "#Top Cone\n",
        "for i in range(thickness):\n",
        "    print((c*i).rjust(thickness-1)+c+(c*i).ljust(thickness-1))\n",
        "\n",
        "#Top Pillars\n",
        "for i in range(thickness+1):\n",
        "    print((c*thickness).center(thickness*2)+(c*thickness).center(thickness*6))\n",
        "\n",
        "#Middle Belt\n",
        "for i in range((thickness+1)//2):\n",
        "    print((c*thickness*5).center(thickness*6))    \n",
        "\n",
        "#Bottom Pillars\n",
        "for i in range(thickness+1):\n",
        "    print((c*thickness).center(thickness*2)+(c*thickness).center(thickness*6))    \n",
        "\n",
        "#Bottom Cone\n",
        "for i in range(thickness):\n",
        "    print(((c*(thickness-i-1)).rjust(thickness)+c+(c*(thickness-i-1)).ljust(thickness)).rjust(thickness*6))"
      ],
      "id": "5db8eebf",
      "execution_count": null,
      "outputs": []
    },
    {
      "cell_type": "code",
      "metadata": {
        "id": "6e05c4a3",
        "outputId": "436e5a76-1b1c-4291-8517-46117678517d"
      },
      "source": [
        "#Question 8 Text Wrapper\n",
        "import textwrap\n",
        "\n",
        "def wrap(string, max_width):\n",
        "    l= list()\n",
        "    for i in range(0,len(string),max_width): \n",
        "        l.append(string[i:i+max_width])\n",
        "    return \"\\n\".join(l)\n",
        "    \n",
        "if __name__ == '__main__':\n",
        "    string, max_width = input(), int(input())\n",
        "    result = wrap(string, max_width)\n",
        "    print(result)"
      ],
      "id": "6e05c4a3",
      "execution_count": null,
      "outputs": [
        {
          "output_type": "execute_result",
          "data": {
            "text/plain": [
              "0"
            ]
          },
          "metadata": {
            "tags": []
          },
          "execution_count": 35
        }
      ]
    },
    {
      "cell_type": "code",
      "metadata": {
        "id": "6b778889",
        "outputId": "d240ba78-6f49-4a27-abd1-1cfa3c20ead5"
      },
      "source": [
        "#Question 9 string formatting\n",
        "def print_formatted(number):\n",
        "    # your code goes here\n",
        "\n",
        "    list1 = []\n",
        "    \n",
        "    for i in range(1, number+1):\n",
        "        decimal = str(i)\n",
        "        octal = str(oct(i)[2:])\n",
        "        hex_ = str(hex(i)[2:]).upper()\n",
        "        binary = str(bin(i)[2:])\n",
        "\n",
        "        list1.append([decimal, octal, hex_, binary])\n",
        "\n",
        "    width = len(list1[-1][3])  # largest binary number\n",
        "\n",
        "    for i in list1:\n",
        "        print(*(rep.rjust(width) for rep in i))\n",
        "if __name__ == '__main__':\n",
        "    n = int(input())\n",
        "    print_formatted(n)"
      ],
      "id": "6b778889",
      "execution_count": null,
      "outputs": [
        {
          "output_type": "execute_result",
          "data": {
            "text/plain": [
              "'is'"
            ]
          },
          "metadata": {
            "tags": []
          },
          "execution_count": 36
        }
      ]
    },
    {
      "cell_type": "code",
      "metadata": {
        "id": "942345e8",
        "outputId": "69dd24da-47df-441b-f617-aa702c851949"
      },
      "source": [
        "#Question 10 designer door mat\n",
        "N, M = map(int,input().split())\n",
        "for i in range(1,N,2): \n",
        "    print((i * \".|.\").center(M, \"-\"))\n",
        "print(\"WELCOME\".center(M,\"-\"))\n",
        "for i in range(N-2,-1,-2): \n",
        "    print((i * \".|.\").center(M, \"-\"))"
      ],
      "id": "942345e8",
      "execution_count": null,
      "outputs": [
        {
          "output_type": "execute_result",
          "data": {
            "text/plain": [
              "'hIs'"
            ]
          },
          "metadata": {
            "tags": []
          },
          "execution_count": 37
        }
      ]
    },
    {
      "cell_type": "code",
      "metadata": {
        "id": "3010a071",
        "outputId": "63ad4b56-d908-4ca1-cf20-0a26ea8b4a35"
      },
      "source": [
        "#Question 11 Alphabet Rangoli\n",
        "import string\n",
        "def print_rangoli(size):\n",
        "    width = 4 * size - 3\n",
        "    alpha = string.ascii_lowercase\n",
        "    for i in list(range(size))[::-1] + list(range(1, size)):\n",
        "        print('-'.join(alpha[size-1:i:-1] + alpha[i:size]).center(width, '-'))\n",
        "if __name__ == '__main__':\n",
        "    n = int(input())\n",
        "    print_rangoli(n)"
      ],
      "id": "3010a071",
      "execution_count": null,
      "outputs": [
        {
          "output_type": "stream",
          "text": [
            " hggljg\n"
          ],
          "name": "stdin"
        },
        {
          "output_type": "stream",
          "text": [
            "hggljg6"
          ],
          "name": "stdout"
        }
      ]
    },
    {
      "cell_type": "code",
      "metadata": {
        "id": "0832bf91",
        "outputId": "bb351a33-3426-4fc7-dd6f-67af024db04a"
      },
      "source": [
        "#Question 12 Capitalize\n",
        "def solve(s):\n",
        "    list1=list()\n",
        "    f=s[:].split(' ')\n",
        "    for i in range(0,len(f)):\n",
        "        s=str()\n",
        "        s=s+f[i]\n",
        "        t=s.capitalize()\n",
        "        list1.append(t)\n",
        "    return (\" \".join(list1))\n",
        "\n",
        "if __name__ == '__main__':\n",
        "    fptr = open(os.environ['OUTPUT_PATH'], 'w')\n",
        "\n",
        "    s = input()\n",
        "\n",
        "    result = solve(s)\n",
        "\n",
        "    fptr.write(result + '\\n')\n",
        "\n",
        "    fptr.close()\n"
      ],
      "id": "0832bf91",
      "execution_count": null,
      "outputs": [
        {
          "output_type": "stream",
          "text": [
            " sSsf dwdw\n"
          ],
          "name": "stdin"
        }
      ]
    },
    {
      "cell_type": "code",
      "metadata": {
        "id": "0287d33d"
      },
      "source": [
        "#Question 13 The minion game\n",
        "def minion_game(string):\n",
        "    vowels = 'AEIOU'\n",
        "    kev = 0\n",
        "    stu = 0\n",
        "    for i in range(len(string)):\n",
        "        if s[i] in vowels:\n",
        "            kev += (len(s)-i)\n",
        "        else:\n",
        "            stu += (len(s)-i)\n",
        "\n",
        "    if kev > stu:\n",
        "        print (\"Kevin\", kev)\n",
        "    elif kev < stu:\n",
        "        print (\"Stuart\", stu)\n",
        "    else:\n",
        "        print (\"Draw\")\n",
        "if __name__ == '__main__':\n",
        "    s = input()\n",
        "    minion_game(s)"
      ],
      "id": "0287d33d",
      "execution_count": null,
      "outputs": []
    },
    {
      "cell_type": "code",
      "metadata": {
        "id": "b8c9ed09",
        "outputId": "22ba00ef-f21d-4322-f432-745b7a5d717e"
      },
      "source": [
        "#Question 13 Merge the tools\n",
        "def merge_the_tools(string, k):\n",
        "    # your code goes here\n",
        "\n",
        "    list = []\n",
        "    N = 0\n",
        "    for item in string:\n",
        "        N += 1\n",
        "        if item not in list:\n",
        "            list.append(item)\n",
        "        if N == k:\n",
        "            print (''.join(list))\n",
        "            list = []\n",
        "            N = 0\n",
        "\n",
        "if __name__ == '__main__':\n",
        "    string, k = input(), int(input())\n",
        "    merge_the_tools(string, k)"
      ],
      "id": "b8c9ed09",
      "execution_count": null,
      "outputs": [
        {
          "output_type": "execute_result",
          "data": {
            "text/plain": [
              "\"['dnkzs', 'afnkaf']\""
            ]
          },
          "metadata": {
            "tags": []
          },
          "execution_count": 51
        }
      ]
    },
    {
      "cell_type": "code",
      "metadata": {
        "id": "0df751e3"
      },
      "source": [
        "s=str(s)"
      ],
      "id": "0df751e3",
      "execution_count": null,
      "outputs": []
    },
    {
      "cell_type": "code",
      "metadata": {
        "id": "d8eb22ce",
        "outputId": "d69033a4-382f-492c-98b2-7969c267e2fe"
      },
      "source": [
        "s"
      ],
      "id": "d8eb22ce",
      "execution_count": null,
      "outputs": [
        {
          "output_type": "execute_result",
          "data": {
            "text/plain": [
              "\"['dnkzs', 'afnkaf']\""
            ]
          },
          "metadata": {
            "tags": []
          },
          "execution_count": 49
        }
      ]
    },
    {
      "cell_type": "code",
      "metadata": {
        "id": "6986a36b",
        "outputId": "530e2e7d-3038-439e-c39a-83e555617296"
      },
      "source": [
        "s = input()\n",
        "# for x in s[:].split():\n",
        "#     s = s.replace(x, x.capitalize())\n",
        "# print(s)"
      ],
      "id": "6986a36b",
      "execution_count": null,
      "outputs": [
        {
          "output_type": "stream",
          "text": [
            " hello   world  lol\n"
          ],
          "name": "stdin"
        }
      ]
    },
    {
      "cell_type": "code",
      "metadata": {
        "id": "e418d37d"
      },
      "source": [
        "f=s[:].split()"
      ],
      "id": "e418d37d",
      "execution_count": null,
      "outputs": []
    },
    {
      "cell_type": "code",
      "metadata": {
        "id": "5cd1fa2b"
      },
      "source": [
        "l=len(f)"
      ],
      "id": "5cd1fa2b",
      "execution_count": null,
      "outputs": []
    },
    {
      "cell_type": "code",
      "metadata": {
        "id": "67b9c66d",
        "outputId": "c2e967cf-16e4-4754-f139-dc3e00894627"
      },
      "source": [
        "s.replace(s,s.capitalize())"
      ],
      "id": "67b9c66d",
      "execution_count": null,
      "outputs": [
        {
          "output_type": "error",
          "ename": "TypeError",
          "evalue": "capitalize() takes no arguments (1 given)",
          "traceback": [
            "\u001b[1;31m---------------------------------------------------------------------------\u001b[0m",
            "\u001b[1;31mTypeError\u001b[0m                                 Traceback (most recent call last)",
            "\u001b[1;32m<ipython-input-6-b60cf57580d3>\u001b[0m in \u001b[0;36m<module>\u001b[1;34m\u001b[0m\n\u001b[1;32m----> 1\u001b[1;33m \u001b[0ms\u001b[0m\u001b[1;33m.\u001b[0m\u001b[0mreplace\u001b[0m\u001b[1;33m(\u001b[0m\u001b[0ms\u001b[0m\u001b[1;33m,\u001b[0m\u001b[0ms\u001b[0m\u001b[1;33m.\u001b[0m\u001b[0mcapitalize\u001b[0m\u001b[1;33m(\u001b[0m\u001b[1;34m' '\u001b[0m\u001b[1;33m)\u001b[0m\u001b[1;33m)\u001b[0m\u001b[1;33m\u001b[0m\u001b[1;33m\u001b[0m\u001b[0m\n\u001b[0m",
            "\u001b[1;31mTypeError\u001b[0m: capitalize() takes no arguments (1 given)"
          ]
        }
      ]
    },
    {
      "cell_type": "code",
      "metadata": {
        "id": "358c4c0e",
        "outputId": "f07ab82a-4521-4e24-91b4-5995b6794515"
      },
      "source": [
        "list1=list()\n",
        "for i in range(0,len(f)):\n",
        "    s=str()\n",
        "    s=s+f[i]\n",
        "    print(s)\n",
        "    t=s.capitalize()\n",
        "    list1.append(t)\n",
        "print(\" \".join(list1))"
      ],
      "id": "358c4c0e",
      "execution_count": null,
      "outputs": [
        {
          "output_type": "stream",
          "text": [
            "hello\n",
            "world\n",
            "lol\n",
            "Hello World Lol\n"
          ],
          "name": "stdout"
        }
      ]
    },
    {
      "cell_type": "code",
      "metadata": {
        "id": "97368b98",
        "outputId": "89fb7fe2-ba44-45ac-d78a-561fb52496b4"
      },
      "source": [
        "\n",
        "def solve(s):\n",
        "    list1=list()\n",
        "    f=s[:].split(' ')\n",
        "    for i in range(0,len(f)):\n",
        "        s=str()\n",
        "        s=s+f[i]\n",
        "        t=s.capitalize()\n",
        "        list1.append(t)\n",
        "    return (\" \".join(list1))\n",
        "\n",
        "if __name__ == '__main__':\n",
        "    fptr = open(os.environ['OUTPUT_PATH'], 'w')\n",
        "\n",
        "    s = input()\n",
        "\n",
        "    result = solve(s)\n",
        "\n",
        "    fptr.write(result + '\\n')\n",
        "\n",
        "    fptr.close()\n"
      ],
      "id": "97368b98",
      "execution_count": null,
      "outputs": [
        {
          "output_type": "stream",
          "text": [
            " hello world lol\n"
          ],
          "name": "stdin"
        },
        {
          "output_type": "stream",
          "text": [
            "Hello World Lol\n"
          ],
          "name": "stdout"
        }
      ]
    },
    {
      "cell_type": "code",
      "metadata": {
        "id": "9feca4bc",
        "outputId": "b0e313ac-5910-49b9-b30a-8c1f5a9b3496"
      },
      "source": [
        "list1"
      ],
      "id": "9feca4bc",
      "execution_count": null,
      "outputs": [
        {
          "output_type": "execute_result",
          "data": {
            "text/plain": [
              "['Dw',\n",
              " 'Dwd',\n",
              " 'Dw',\n",
              " 'Dwd',\n",
              " 'Dw',\n",
              " 'Dwd',\n",
              " 'Dw',\n",
              " 'Dwd',\n",
              " 'Dw',\n",
              " 'Dwd',\n",
              " 'Dw',\n",
              " 'Dwd',\n",
              " 'Dw',\n",
              " 'Dw',\n",
              " 'Dwd',\n",
              " 'Dw',\n",
              " 'Dwd',\n",
              " 'Dw',\n",
              " 'Dwd',\n",
              " 'Dw',\n",
              " 'Dw',\n",
              " 'Dwd']"
            ]
          },
          "metadata": {
            "tags": []
          },
          "execution_count": 49
        }
      ]
    },
    {
      "cell_type": "code",
      "metadata": {
        "id": "6f5f1252"
      },
      "source": [
        "list2=list()\n",
        "list2.append(2)"
      ],
      "id": "6f5f1252",
      "execution_count": null,
      "outputs": []
    },
    {
      "cell_type": "code",
      "metadata": {
        "id": "27c7d7d1",
        "outputId": "82c25021-d68d-4d49-f172-7ae849d6bdcb"
      },
      "source": [
        "len(f)"
      ],
      "id": "27c7d7d1",
      "execution_count": null,
      "outputs": [
        {
          "output_type": "execute_result",
          "data": {
            "text/plain": [
              "2"
            ]
          },
          "metadata": {
            "tags": []
          },
          "execution_count": 24
        }
      ]
    },
    {
      "cell_type": "code",
      "metadata": {
        "id": "7022f405",
        "outputId": "50b8a38d-1246-464e-ab06-8ec753fd1c6a"
      },
      "source": [
        "f"
      ],
      "id": "7022f405",
      "execution_count": null,
      "outputs": [
        {
          "output_type": "execute_result",
          "data": {
            "text/plain": [
              "['dw', 'dwD']"
            ]
          },
          "metadata": {
            "tags": []
          },
          "execution_count": 28
        }
      ]
    },
    {
      "cell_type": "code",
      "metadata": {
        "id": "306c0eeb",
        "outputId": "202ccb2f-9a2c-46a8-f8cf-5e39d55129eb"
      },
      "source": [
        "880 73.36\n",
        "882 74."
      ],
      "id": "306c0eeb",
      "execution_count": null,
      "outputs": [
        {
          "output_type": "error",
          "ename": "SyntaxError",
          "evalue": "invalid syntax (<ipython-input-57-611e1df1149d>, line 1)",
          "traceback": [
            "\u001b[1;36m  File \u001b[1;32m\"<ipython-input-57-611e1df1149d>\"\u001b[1;36m, line \u001b[1;32m1\u001b[0m\n\u001b[1;33m    880 73.36\u001b[0m\n\u001b[1;37m        ^\u001b[0m\n\u001b[1;31mSyntaxError\u001b[0m\u001b[1;31m:\u001b[0m invalid syntax\n"
          ]
        }
      ]
    },
    {
      "cell_type": "code",
      "metadata": {
        "id": "4466fa37",
        "outputId": "cc86d201-2072-446a-a6f5-632aecc17375"
      },
      "source": [
        "11345"
      ],
      "id": "4466fa37",
      "execution_count": null,
      "outputs": [
        {
          "output_type": "execute_result",
          "data": {
            "text/plain": [
              "11345"
            ]
          },
          "metadata": {
            "tags": []
          },
          "execution_count": 58
        }
      ]
    },
    {
      "cell_type": "code",
      "metadata": {
        "id": "9e843200",
        "outputId": "9ef37f5a-6a72-4476-f8c4-cb63c9b29271"
      },
      "source": [
        "2501+972"
      ],
      "id": "9e843200",
      "execution_count": null,
      "outputs": [
        {
          "output_type": "execute_result",
          "data": {
            "text/plain": [
              "3473"
            ]
          },
          "metadata": {
            "tags": []
          },
          "execution_count": 59
        }
      ]
    },
    {
      "cell_type": "code",
      "metadata": {
        "id": "1351a2c4"
      },
      "source": [
        ""
      ],
      "id": "1351a2c4",
      "execution_count": null,
      "outputs": []
    }
  ]
}