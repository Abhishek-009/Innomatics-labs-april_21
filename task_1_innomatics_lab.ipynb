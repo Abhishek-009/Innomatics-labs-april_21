{
  "nbformat": 4,
  "nbformat_minor": 0,
  "metadata": {
    "kernelspec": {
      "display_name": "Python 3",
      "language": "python",
      "name": "python3"
    },
    "toc": {
      "base_numbering": 1,
      "nav_menu": {},
      "number_sections": true,
      "sideBar": true,
      "skip_h1_title": false,
      "title_cell": "Table of Contents",
      "title_sidebar": "Contents",
      "toc_cell": false,
      "toc_position": {},
      "toc_section_display": true,
      "toc_window_display": false
    },
    "colab": {
      "name": "task_1_innomatics_lab.ipynb",
      "provenance": [],
      "collapsed_sections": [],
      "include_colab_link": true
    }
  },
  "cells": [
    {
      "cell_type": "markdown",
      "metadata": {
        "id": "view-in-github",
        "colab_type": "text"
      },
      "source": [
        "<a href=\"https://colab.research.google.com/github/Abhishek-009/Innomatics-labs-april_21/blob/main/task_1_innomatics_lab.ipynb\" target=\"_parent\"><img src=\"https://colab.research.google.com/assets/colab-badge.svg\" alt=\"Open In Colab\"/></a>"
      ]
    },
    {
      "cell_type": "code",
      "metadata": {
        "id": "OFSehTTRbCjm"
      },
      "source": [
        "#print hello world"
      ],
      "execution_count": null,
      "outputs": []
    },
    {
      "cell_type": "code",
      "metadata": {
        "id": "rFLKPXI3bCjq",
        "outputId": "af267468-bed0-43e4-8314-944c574a6de2"
      },
      "source": [
        "print('Hello, World!')"
      ],
      "execution_count": null,
      "outputs": [
        {
          "output_type": "stream",
          "text": [
            "Hello World\n"
          ],
          "name": "stdout"
        }
      ]
    },
    {
      "cell_type": "code",
      "metadata": {
        "id": "mrMajFJVbCjr"
      },
      "source": [
        "#python if Else"
      ],
      "execution_count": null,
      "outputs": []
    },
    {
      "cell_type": "code",
      "metadata": {
        "id": "i_SGdofcbCjs",
        "outputId": "9684bf5e-f64d-4d94-e434-75ce7774cc5e"
      },
      "source": [
        "N = int(input())\n",
        "\n",
        "if N % 2 != 0:\n",
        "    print (\"Weird\")\n",
        "else:\n",
        "    if N >= 2 and N <= 5:\n",
        "        print (\"Not Weird\")\n",
        "    elif N >= 6 and N <= 20:\n",
        "        print (\"Weird\")\n",
        "    elif N > 20:\n",
        "        print (\"Not Weird\")"
      ],
      "execution_count": null,
      "outputs": [
        {
          "output_type": "stream",
          "text": [
            "3\n",
            "Weird\n"
          ],
          "name": "stdout"
        }
      ]
    },
    {
      "cell_type": "code",
      "metadata": {
        "id": "7moiacoIbCjs"
      },
      "source": [
        "#aritmatic operators"
      ],
      "execution_count": null,
      "outputs": []
    },
    {
      "cell_type": "code",
      "metadata": {
        "id": "AsaXUtCRbCjt",
        "outputId": "67d09964-0510-4bc7-fad1-4489f06af442"
      },
      "source": [
        "a = int(input())                       \n",
        "b = int(input())\n",
        "\n",
        "if 1<=a<=10**10 and 1<=b<=10**10:        \n",
        "    sum = a+b\n",
        "    difference = a-b\n",
        "    product = a*b\n",
        "\n",
        "    print (sum)                              \n",
        "    print (difference)                      \n",
        "    print (product)   "
      ],
      "execution_count": null,
      "outputs": [
        {
          "output_type": "stream",
          "text": [
            "3\n",
            "5\n",
            "8\n",
            "-2\n",
            "15\n"
          ],
          "name": "stdout"
        }
      ]
    },
    {
      "cell_type": "code",
      "metadata": {
        "id": "xVpfSPHbbCjt"
      },
      "source": [
        "#python division"
      ],
      "execution_count": null,
      "outputs": []
    },
    {
      "cell_type": "code",
      "metadata": {
        "id": "UyODrUnHbCju",
        "outputId": "a8342343-35f5-4ed6-89ae-9346c585beb6"
      },
      "source": [
        "a = int(input())\n",
        "b = int(input())\n",
        "\n",
        "print(a//b)\n",
        "print(a/b)\n"
      ],
      "execution_count": null,
      "outputs": [
        {
          "output_type": "stream",
          "text": [
            "4\n",
            "3\n",
            "1\n",
            "1.3333333333333333\n"
          ],
          "name": "stdout"
        }
      ]
    },
    {
      "cell_type": "code",
      "metadata": {
        "id": "FNumnn2cbCju"
      },
      "source": [
        "#loops"
      ],
      "execution_count": null,
      "outputs": []
    },
    {
      "cell_type": "code",
      "metadata": {
        "id": "2ps8DSDUbCju",
        "outputId": "eb211971-9c68-43e9-b9ac-fa6a643c3968"
      },
      "source": [
        "n=int(input())\n",
        "for i in range(n):\n",
        "    print(i**2)"
      ],
      "execution_count": null,
      "outputs": [
        {
          "output_type": "stream",
          "text": [
            "5\n",
            "0\n",
            "1\n",
            "4\n",
            "9\n",
            "16\n"
          ],
          "name": "stdout"
        }
      ]
    },
    {
      "cell_type": "code",
      "metadata": {
        "id": "aIoP-BhybCjv"
      },
      "source": [
        "#print function"
      ],
      "execution_count": null,
      "outputs": []
    },
    {
      "cell_type": "code",
      "metadata": {
        "id": "gz8w9bo9bCjv",
        "outputId": "428a2667-9d01-42b1-d5ff-d6e2d0e21162"
      },
      "source": [
        "n = int(input())\n",
        "i=1\n",
        "while i<=n:\n",
        "    print(i,end=\"\")\n",
        "    i=i+1"
      ],
      "execution_count": null,
      "outputs": [
        {
          "output_type": "stream",
          "text": [
            "5\n",
            "12345"
          ],
          "name": "stdout"
        }
      ]
    },
    {
      "cell_type": "code",
      "metadata": {
        "id": "02q6xh8cbCjw"
      },
      "source": [
        ""
      ],
      "execution_count": null,
      "outputs": []
    }
  ]
}