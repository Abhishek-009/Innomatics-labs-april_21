{
  "nbformat": 4,
  "nbformat_minor": 0,
  "metadata": {
    "colab": {
      "name": "Task-1.ipynb",
      "provenance": [],
      "toc_visible": true,
      "authorship_tag": "ABX9TyPEF3yn6T3UGZzDnXejTEko",
      "include_colab_link": true
    },
    "kernelspec": {
      "name": "python3",
      "display_name": "Python 3"
    },
    "language_info": {
      "name": "python"
    }
  },
  "cells": [
    {
      "cell_type": "markdown",
      "metadata": {
        "id": "view-in-github",
        "colab_type": "text"
      },
      "source": [
        "<a href=\"https://colab.research.google.com/github/Abhishek-009/Innomatics-labs-april_21/blob/main/Task_1.ipynb\" target=\"_parent\"><img src=\"https://colab.research.google.com/assets/colab-badge.svg\" alt=\"Open In Colab\"/></a>"
      ]
    },
    {
      "cell_type": "markdown",
      "metadata": {
        "id": "Hu7NNJ7mMLa1"
      },
      "source": [
        "Print Python, World!\n",
        "\n",
        "```\n",
        "# This is formatted as code\n",
        "```\n",
        "\n"
      ]
    },
    {
      "cell_type": "code",
      "metadata": {
        "colab": {
          "base_uri": "https://localhost:8080/"
        },
        "id": "VAbEjBdbM5WV",
        "outputId": "90ac83b1-6829-40bd-f1bb-32b79c5b6708"
      },
      "source": [
        "print(\"python, World!\")"
      ],
      "execution_count": 4,
      "outputs": [
        {
          "output_type": "stream",
          "text": [
            "python, World!\n"
          ],
          "name": "stdout"
        }
      ]
    },
    {
      "cell_type": "markdown",
      "metadata": {
        "id": "5dXmCCv9Na9Y"
      },
      "source": [
        "Python If else"
      ]
    },
    {
      "cell_type": "code",
      "metadata": {
        "colab": {
          "base_uri": "https://localhost:8080/"
        },
        "id": "TJnqE1j9NfsF",
        "outputId": "e6d461ff-9dbf-4eaa-82b4-2e62fd54e2a6"
      },
      "source": [
        "n = int(input())\n",
        "if n % 2 == 1:\n",
        "    print(\"Weird\")\n",
        "elif n % 2 == 0 and 2 <= n <= 5:\n",
        "    print(\"Not Weird\")\n",
        "elif n % 2 == 0 and 6 <= n <= 20:\n",
        "    print(\"Weird\")\n",
        "else:\n",
        "    print(\"Not Weird\")\n"
      ],
      "execution_count": 6,
      "outputs": [
        {
          "output_type": "stream",
          "text": [
            "2\n",
            "Not Weird\n"
          ],
          "name": "stdout"
        }
      ]
    },
    {
      "cell_type": "code",
      "metadata": {
        "colab": {
          "base_uri": "https://localhost:8080/"
        },
        "id": "_vTdweU6NsH1",
        "outputId": "fa51c7f0-f771-453b-8652-0e599746228e"
      },
      "source": [
        "##Arithmetic Operators\n",
        "\n",
        "if __name__ == '__main__':\n",
        "    a = int(input())\n",
        "    b = int(input())\n",
        "    \n",
        "    \n",
        "   \n",
        "print( a + b)\n",
        "print (a - b)\n",
        "print (a * b)\n"
      ],
      "execution_count": 7,
      "outputs": [
        {
          "output_type": "stream",
          "text": [
            "5\n",
            "5\n",
            "10\n",
            "0\n",
            "25\n"
          ],
          "name": "stdout"
        }
      ]
    },
    {
      "cell_type": "code",
      "metadata": {
        "colab": {
          "base_uri": "https://localhost:8080/"
        },
        "id": "_FQbzJ0HOA93",
        "outputId": "38f8e131-6286-4340-f2b1-379d72a673d9"
      },
      "source": [
        "##Python: Division\n",
        "a = int(input())\n",
        "b = int(input())\n",
        "\n",
        "print(a//b)\n",
        "print(a/b)\n"
      ],
      "execution_count": 14,
      "outputs": [
        {
          "output_type": "stream",
          "text": [
            "5\n",
            "4\n",
            "1\n",
            "1.25\n"
          ],
          "name": "stdout"
        }
      ]
    },
    {
      "cell_type": "code",
      "metadata": {
        "colab": {
          "base_uri": "https://localhost:8080/"
        },
        "id": "Tm2NWI0oOsqI",
        "outputId": "84244672-70db-4485-bbf5-5fc4e4399b2d"
      },
      "source": [
        "##write a function\n",
        "\n",
        "def is_leap(year):\n",
        "    leap = False\n",
        "    \n",
        "    # Write your logic here\n",
        "    if year % 400 == 0:\n",
        "        leap = True\n",
        "    elif year % 100 == 0:\n",
        "        leap = False\n",
        "    elif year % 4 == 0:\n",
        "        leap = True\n",
        "    \n",
        "    return leap\n",
        "    \n",
        "year = int(input())\n",
        "print(is_leap(year))"
      ],
      "execution_count": 15,
      "outputs": [
        {
          "output_type": "stream",
          "text": [
            "2021\n",
            "False\n"
          ],
          "name": "stdout"
        }
      ]
    },
    {
      "cell_type": "code",
      "metadata": {
        "colab": {
          "base_uri": "https://localhost:8080/"
        },
        "id": "Set3F7neP7GC",
        "outputId": "2e684c9e-31a8-4b84-881d-e0d0eaa67f36"
      },
      "source": [
        "#Loop\n",
        "n = int(input())\n",
        "    \n",
        "    \n",
        "for i in range(n):\n",
        "    print( i * i)\n"
      ],
      "execution_count": 16,
      "outputs": [
        {
          "output_type": "stream",
          "text": [
            "2\n",
            "0\n",
            "1\n"
          ],
          "name": "stdout"
        }
      ]
    },
    {
      "cell_type": "code",
      "metadata": {
        "colab": {
          "base_uri": "https://localhost:8080/"
        },
        "id": "90EHVz3vQSjY",
        "outputId": "96bb3fde-5e91-4b65-b7c3-b8e32fcfc5ae"
      },
      "source": [
        "#print function\n",
        "n = int(input())\n",
        "\n",
        "              \n",
        "for i in range(n):\n",
        "   print(i+1,end=\"\")"
      ],
      "execution_count": 17,
      "outputs": [
        {
          "output_type": "stream",
          "text": [
            "10\n",
            "12345678910"
          ],
          "name": "stdout"
        }
      ]
    },
    {
      "cell_type": "markdown",
      "metadata": {
        "id": "wFyKTUijQa93"
      },
      "source": [
        ""
      ]
    }
  ]
}