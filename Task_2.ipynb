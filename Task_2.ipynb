{
  "nbformat": 4,
  "nbformat_minor": 0,
  "metadata": {
    "kernelspec": {
      "display_name": "Python 3",
      "language": "python",
      "name": "python3"
    },
    "language_info": {
      "codemirror_mode": {
        "name": "ipython",
        "version": 3
      },
      "file_extension": ".py",
      "mimetype": "text/x-python",
      "name": "python",
      "nbconvert_exporter": "python",
      "pygments_lexer": "ipython3",
      "version": "3.8.5"
    },
    "toc": {
      "base_numbering": 1,
      "nav_menu": {},
      "number_sections": true,
      "sideBar": true,
      "skip_h1_title": false,
      "title_cell": "Table of Contents",
      "title_sidebar": "Contents",
      "toc_cell": false,
      "toc_position": {},
      "toc_section_display": true,
      "toc_window_display": false
    },
    "colab": {
      "name": "Task_2.ipynb",
      "provenance": [],
      "include_colab_link": true
    }
  },
  "cells": [
    {
      "cell_type": "markdown",
      "metadata": {
        "id": "view-in-github",
        "colab_type": "text"
      },
      "source": [
        "<a href=\"https://colab.research.google.com/github/Abhishek-009/Innomatics-labs-april_21/blob/main/Task_2.ipynb\" target=\"_parent\"><img src=\"https://colab.research.google.com/assets/colab-badge.svg\" alt=\"Open In Colab\"/></a>"
      ]
    },
    {
      "cell_type": "code",
      "metadata": {
        "id": "pmGo0s4rRyxE"
      },
      "source": [
        "#list comprehensions"
      ],
      "execution_count": null,
      "outputs": []
    },
    {
      "cell_type": "code",
      "metadata": {
        "colab": {
          "base_uri": "https://localhost:8080/"
        },
        "id": "O2Y-gCSzRyxG",
        "outputId": "b3974050-8804-4b5b-d8a4-b78c40e91d93"
      },
      "source": [
        "x = int(input())\n",
        "y = int(input())\n",
        "z = int(input())\n",
        "N = int(input())\n",
        "arr = [[X, Y, Z] for X in range(x+1) for Y in range(y+1) for Z in range(z+1) if X + Y + Z != N]\n",
        "print(arr)"
      ],
      "execution_count": 1,
      "outputs": [
        {
          "output_type": "stream",
          "text": [
            "2\n",
            "5\n",
            "4\n",
            "5\n",
            "[[0, 0, 0], [0, 0, 1], [0, 0, 2], [0, 0, 3], [0, 0, 4], [0, 1, 0], [0, 1, 1], [0, 1, 2], [0, 1, 3], [0, 2, 0], [0, 2, 1], [0, 2, 2], [0, 2, 4], [0, 3, 0], [0, 3, 1], [0, 3, 3], [0, 3, 4], [0, 4, 0], [0, 4, 2], [0, 4, 3], [0, 4, 4], [0, 5, 1], [0, 5, 2], [0, 5, 3], [0, 5, 4], [1, 0, 0], [1, 0, 1], [1, 0, 2], [1, 0, 3], [1, 1, 0], [1, 1, 1], [1, 1, 2], [1, 1, 4], [1, 2, 0], [1, 2, 1], [1, 2, 3], [1, 2, 4], [1, 3, 0], [1, 3, 2], [1, 3, 3], [1, 3, 4], [1, 4, 1], [1, 4, 2], [1, 4, 3], [1, 4, 4], [1, 5, 0], [1, 5, 1], [1, 5, 2], [1, 5, 3], [1, 5, 4], [2, 0, 0], [2, 0, 1], [2, 0, 2], [2, 0, 4], [2, 1, 0], [2, 1, 1], [2, 1, 3], [2, 1, 4], [2, 2, 0], [2, 2, 2], [2, 2, 3], [2, 2, 4], [2, 3, 1], [2, 3, 2], [2, 3, 3], [2, 3, 4], [2, 4, 0], [2, 4, 1], [2, 4, 2], [2, 4, 3], [2, 4, 4], [2, 5, 0], [2, 5, 1], [2, 5, 2], [2, 5, 3], [2, 5, 4]]\n"
          ],
          "name": "stdout"
        }
      ]
    },
    {
      "cell_type": "code",
      "metadata": {
        "id": "Qbs-_FDjRyxH"
      },
      "source": [
        "#nested lists"
      ],
      "execution_count": null,
      "outputs": []
    },
    {
      "cell_type": "code",
      "metadata": {
        "colab": {
          "base_uri": "https://localhost:8080/"
        },
        "id": "Jrrb8xl2RyxK",
        "outputId": "eba0adb7-df81-439a-a1f6-8c836bd464f6"
      },
      "source": [
        "score = []\n",
        "for __ in range(0,int(input())):\n",
        "    score.append([input(), float(input())])\n",
        "second_highest = sorted(list(set([marks for name, marks in score])))[1]\n",
        "print('\\n'.join([a for a,b in sorted(score) if b == second_highest]))"
      ],
      "execution_count": null,
      "outputs": [
        {
          "output_type": "stream",
          "text": [
            "5\n",
            "2\n",
            "6\n",
            "\n",
            "4\n",
            "6\n",
            "8\n",
            "8\n",
            "6\n"
          ],
          "name": "stdout"
        }
      ]
    },
    {
      "cell_type": "code",
      "metadata": {
        "id": "a9HVbXdkRyxL"
      },
      "source": [
        "#finding the Runner up score"
      ],
      "execution_count": null,
      "outputs": []
    },
    {
      "cell_type": "code",
      "metadata": {
        "id": "ueWOAXrRRyxL"
      },
      "source": [
        "n= int(input())\n",
        "arr = input().split()\n",
        "arr1 = map(int, arr)\n",
        "arr1=set(list(arr1))\n",
        "arr1=sorted(arr1)\n",
        "print(arr1[-2])"
      ],
      "execution_count": null,
      "outputs": []
    },
    {
      "cell_type": "code",
      "metadata": {
        "id": "Elmri2q0RyxM"
      },
      "source": [
        "#finding the percentage"
      ],
      "execution_count": null,
      "outputs": []
    },
    {
      "cell_type": "code",
      "metadata": {
        "id": "oKQr1W4hRyxM"
      },
      "source": [
        "N = int(input())\n",
        "dictionary = {} \n",
        "for i in range(0, N): \n",
        "    arr = input().split()\n",
        "    marks = list(map(float, arr[1:])) \n",
        "    dictionary[arr[0]] = sum(marks)/float(len(marks))\n",
        "print(\"%.2f\" % dictionary[input()]) "
      ],
      "execution_count": null,
      "outputs": []
    },
    {
      "cell_type": "code",
      "metadata": {
        "id": "w6kA-CoXRyxM"
      },
      "source": [
        "#Lists"
      ],
      "execution_count": null,
      "outputs": []
    },
    {
      "cell_type": "code",
      "metadata": {
        "id": "dIlUoCySRyxN"
      },
      "source": [
        "N = int(input())\n",
        "arr = []\n",
        "\n",
        "while N != 0:\n",
        "    a = input().split()\n",
        "\n",
        "    if len(a) == 3:\n",
        "        b = int(a[1])\n",
        "        c = int(a[2])\n",
        "    elif len(a) == 2:\n",
        "        b = int(a[1])\n",
        "\n",
        "    if a[0] == \"insert\":\n",
        "        arr.insert(b,c)\n",
        "    elif a[0] == \"print\":\n",
        "        print(arr)\n",
        "    elif a[0] == \"remove\":\n",
        "        arr.remove(b)\n",
        "    elif a[0] == \"append\":\n",
        "        arr.append(b)\n",
        "    elif a[0] == \"sort\":\n",
        "        arr.sort()\n",
        "    elif a[0] == \"pop\":\n",
        "        arr.pop()\n",
        "    elif a[0] == \"reverse\":\n",
        "        arr.reverse()\n",
        "    N = N-1"
      ],
      "execution_count": null,
      "outputs": []
    },
    {
      "cell_type": "code",
      "metadata": {
        "id": "eVL3lDNrRyxO"
      },
      "source": [
        "#tuples"
      ],
      "execution_count": null,
      "outputs": []
    },
    {
      "cell_type": "code",
      "metadata": {
        "id": "3Yy7k4y1RyxO"
      },
      "source": [
        "a = int(input())\n",
        "print(hash(tuple(map(int, input().split()))))"
      ],
      "execution_count": null,
      "outputs": []
    },
    {
      "cell_type": "code",
      "metadata": {
        "id": "mbi2z0ZoRyxO"
      },
      "source": [
        "#introduction to sets"
      ],
      "execution_count": null,
      "outputs": []
    },
    {
      "cell_type": "code",
      "metadata": {
        "id": "zMBiNgQlRyxO"
      },
      "source": [
        "def average(array):\n",
        " a = set(arr)\n",
        " return float(sum(a)) / len(a)\n",
        "\n",
        "if __name__ == '__main__':\n",
        "    n = int(input())\n",
        "    arr = list(map(int, input().split()))\n",
        "    result = average(arr)\n",
        "    print(result)"
      ],
      "execution_count": null,
      "outputs": []
    },
    {
      "cell_type": "code",
      "metadata": {
        "id": "4GT0GvuMRyxP"
      },
      "source": [
        "#no idea!"
      ],
      "execution_count": null,
      "outputs": []
    },
    {
      "cell_type": "code",
      "metadata": {
        "id": "IGDA4L8WRyxP"
      },
      "source": [
        "p = input().split()\n",
        "q = input().split()\n",
        "a = set(input().split())\n",
        "b = set(input().split())\n",
        "\n",
        "set_s = 0\n",
        "\n",
        "for i in q:\n",
        "    if i in a:\n",
        "        set_s = set_s + 1\n",
        "    if i in b:\n",
        "        set_s = set_s - 1\n",
        "\n",
        "print(set_s)"
      ],
      "execution_count": null,
      "outputs": []
    },
    {
      "cell_type": "code",
      "metadata": {
        "id": "OASc_0VtRyxP"
      },
      "source": [
        "#symmetric difference"
      ],
      "execution_count": null,
      "outputs": []
    },
    {
      "cell_type": "code",
      "metadata": {
        "id": "SFZeDxa8RyxQ"
      },
      "source": [
        "a = int(input())\n",
        "\n",
        "b = set(map(int, input().split()))\n",
        "\n",
        "c = int(input())\n",
        "\n",
        "d = set(map(int, input().split()))\n",
        "\n",
        "p = b.difference(d)\n",
        "q = d.difference(b)\n",
        "\n",
        "e = p.union(q)\n",
        "sol = list(e)\n",
        "sol.sort()\n",
        "for i in range(len(sol)):\n",
        "    print(sol[i])"
      ],
      "execution_count": null,
      "outputs": []
    },
    {
      "cell_type": "code",
      "metadata": {
        "id": "KkrAEV36RyxQ"
      },
      "source": [
        "# set.add()"
      ],
      "execution_count": null,
      "outputs": []
    },
    {
      "cell_type": "code",
      "metadata": {
        "id": "47073gciRyxQ"
      },
      "source": [
        "n = int(input())\n",
        "\n",
        "names = set([])\n",
        "\n",
        "for i in range(n):\n",
        "    names.add(input())\n",
        "\n",
        "print(len(names))"
      ],
      "execution_count": null,
      "outputs": []
    },
    {
      "cell_type": "code",
      "metadata": {
        "id": "Z1mi6cCPRyxR"
      },
      "source": [
        "#Set .discard(), .remove() & .pop()"
      ],
      "execution_count": null,
      "outputs": []
    },
    {
      "cell_type": "code",
      "metadata": {
        "id": "BYoDeWa_RyxR"
      },
      "source": [
        "n = int(input())\n",
        "s = set(map(int, input().split())) \n",
        "\n",
        "for i in range(int(input())): \n",
        "    set1 = input().split()\n",
        "    if set1[0] == 'pop':\n",
        "        s.pop()\n",
        "    elif set1[0] == 'remove':\n",
        "        s.remove(int(set1[1]))\n",
        "    elif set1[0] == 'discard':\n",
        "        s.discard(int(set1[1]))\n",
        "\n",
        "print(sum(s))"
      ],
      "execution_count": null,
      "outputs": []
    },
    {
      "cell_type": "code",
      "metadata": {
        "id": "Wjy5LSz8RyxR"
      },
      "source": [
        "#Set .union() Operation"
      ],
      "execution_count": null,
      "outputs": []
    },
    {
      "cell_type": "code",
      "metadata": {
        "id": "x3csS778RyxS"
      },
      "source": [
        "\n",
        "a = int(input())\n",
        "set_a = set(map(int, input().split()))\n",
        "\n",
        "b = int(input())\n",
        "set_b = set(map(int, input().split()))\n",
        "\n",
        "new_set = set_a.union(set_b)\n",
        "print(len(new_set))"
      ],
      "execution_count": null,
      "outputs": []
    },
    {
      "cell_type": "code",
      "metadata": {
        "id": "3PkJ61eERyxS"
      },
      "source": [
        "#Set .intersection() Operation"
      ],
      "execution_count": null,
      "outputs": []
    },
    {
      "cell_type": "code",
      "metadata": {
        "id": "th1dLugORyxS"
      },
      "source": [
        "a = int(input())\n",
        "set_a = set(map(int, input().split()))\n",
        "\n",
        "b = int(input())\n",
        "set_b = set(map(int, input().split()))\n",
        "\n",
        "new_set = set_a.intersection(set_b)\n",
        "print(len(new_set))"
      ],
      "execution_count": null,
      "outputs": []
    },
    {
      "cell_type": "code",
      "metadata": {
        "id": "c2wX6olFRyxS"
      },
      "source": [
        "#Set .difference() Operation"
      ],
      "execution_count": null,
      "outputs": []
    },
    {
      "cell_type": "code",
      "metadata": {
        "id": "yfxd_K5qRyxT"
      },
      "source": [
        "a = int(input())\n",
        "set_a = set(map(int, input().split()))\n",
        "\n",
        "b = int(input())\n",
        "set_b = set(map(int, input().split()))\n",
        "\n",
        "new_set = set_a.difference(set_b)\n",
        "print(len(new_set))"
      ],
      "execution_count": null,
      "outputs": []
    },
    {
      "cell_type": "code",
      "metadata": {
        "id": "cL0oQbG1RyxT"
      },
      "source": [
        "#Set .symmetric_difference() Operation"
      ],
      "execution_count": null,
      "outputs": []
    },
    {
      "cell_type": "code",
      "metadata": {
        "id": "c_IIIf2SRyxT"
      },
      "source": [
        "A= int(input())\n",
        "set_a = set(map(int, input().split()))\n",
        "\n",
        "B = int(input())\n",
        "set_b = set(map(int, input().split()))\n",
        "\n",
        "print(len(set_a.symmetric_difference(set_b)))"
      ],
      "execution_count": null,
      "outputs": []
    },
    {
      "cell_type": "code",
      "metadata": {
        "id": "izYlHDrzRyxT"
      },
      "source": [
        "#Set Mutations"
      ],
      "execution_count": null,
      "outputs": []
    },
    {
      "cell_type": "code",
      "metadata": {
        "id": "j_KaxQPFRyxU"
      },
      "source": [
        "a = int(input())\n",
        "set_a = set(map(int, input().split()))\n",
        "n = int(input())\n",
        "\n",
        "for n in range(n):\n",
        "    operation = input().split()\n",
        "    new_set = set(map(int, input().split()))\n",
        "    eval('set_a.{}({})'.format(operation[0], new_set))\n",
        "\n",
        "print(sum(set_a))"
      ],
      "execution_count": null,
      "outputs": []
    },
    {
      "cell_type": "code",
      "metadata": {
        "id": "G0s5GPLTRyxU"
      },
      "source": [
        "#The Captain's Room"
      ],
      "execution_count": null,
      "outputs": []
    },
    {
      "cell_type": "code",
      "metadata": {
        "id": "kqqKHO7jRyxU"
      },
      "source": [
        "n= input()\n",
        "room_nums = input().split()\n",
        "room_set = set(room_nums)\n",
        "\n",
        "for i in list(room_set):\n",
        "    room_nums.remove(i)\n",
        "\n",
        "captains_room_num = room_set.difference(set(room_nums)).pop()\n",
        "print(captains_room_num)"
      ],
      "execution_count": null,
      "outputs": []
    },
    {
      "cell_type": "code",
      "metadata": {
        "id": "NEHGnAprRyxW"
      },
      "source": [
        "#Check Subset"
      ],
      "execution_count": null,
      "outputs": []
    },
    {
      "cell_type": "code",
      "metadata": {
        "id": "Ia2w69AWRyxW"
      },
      "source": [
        "for i in range(int(input())):\n",
        "    a = int(input())\n",
        "    set_a = set(map(int, input().split()))\n",
        "\n",
        "    b = int(input())\n",
        "    set_b = set(map(int, input().split()))\n",
        "\n",
        "    if len(set_a - set_b) == 0:\n",
        "        print(\"True\")\n",
        "    else:\n",
        "        print(\"False\")"
      ],
      "execution_count": null,
      "outputs": []
    },
    {
      "cell_type": "code",
      "metadata": {
        "id": "xLeuO6ybRyxW"
      },
      "source": [
        "#Check Strict Superset"
      ],
      "execution_count": null,
      "outputs": []
    },
    {
      "cell_type": "code",
      "metadata": {
        "id": "7Rbz0C5hRyxX"
      },
      "source": [
        "a = set(input().split())\n",
        "count = 0\n",
        "value = 0\n",
        "\n",
        "for i in range(int(input())):\n",
        "    if a.issuperset(set(input().split())):\n",
        "        count = count+1\n",
        "    else:\n",
        "        value = value+1\n",
        "if value != 0:\n",
        "    print('False')\n",
        "else:\n",
        "    print('True')"
      ],
      "execution_count": null,
      "outputs": []
    }
  ]
}