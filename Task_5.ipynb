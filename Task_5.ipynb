{
  "nbformat": 4,
  "nbformat_minor": 5,
  "metadata": {
    "kernelspec": {
      "display_name": "Python 3",
      "language": "python",
      "name": "python3"
    },
    "language_info": {
      "codemirror_mode": {
        "name": "ipython",
        "version": 3
      },
      "file_extension": ".py",
      "mimetype": "text/x-python",
      "name": "python",
      "nbconvert_exporter": "python",
      "pygments_lexer": "ipython3",
      "version": "3.8.3"
    },
    "colab": {
      "name": "Task-5.ipynb",
      "provenance": [],
      "include_colab_link": true
    }
  },
  "cells": [
    {
      "cell_type": "markdown",
      "metadata": {
        "id": "view-in-github",
        "colab_type": "text"
      },
      "source": [
        "<a href=\"https://colab.research.google.com/github/Abhishek-009/Innomatics-labs-april_21/blob/main/Task_5.ipynb\" target=\"_parent\"><img src=\"https://colab.research.google.com/assets/colab-badge.svg\" alt=\"Open In Colab\"/></a>"
      ]
    },
    {
      "cell_type": "code",
      "metadata": {
        "id": "16ec4c50",
        "outputId": "f517b0b1-2e4f-4002-e9ed-66d54b7f3738"
      },
      "source": [
        "#Question 1 Detecting floating point number\n",
        "import re\n",
        "\n",
        "for _ in range(int(input())):\n",
        "    print(bool(re.match(\"^[\\+-]?\\d*\\.\\d+$\", input())))\n"
      ],
      "id": "16ec4c50",
      "execution_count": null,
      "outputs": [
        {
          "output_type": "stream",
          "text": [
            " 22.22 22.22.2 333\n"
          ],
          "name": "stdin"
        },
        {
          "output_type": "error",
          "ename": "ValueError",
          "evalue": "invalid literal for int() with base 10: '22.22 22.22.2 333'",
          "traceback": [
            "\u001b[1;31m---------------------------------------------------------------------------\u001b[0m",
            "\u001b[1;31mValueError\u001b[0m                                Traceback (most recent call last)",
            "\u001b[1;32m<ipython-input-1-da64413d1a3a>\u001b[0m in \u001b[0;36m<module>\u001b[1;34m\u001b[0m\n\u001b[0;32m      2\u001b[0m \u001b[1;32mimport\u001b[0m \u001b[0mre\u001b[0m\u001b[1;33m\u001b[0m\u001b[1;33m\u001b[0m\u001b[0m\n\u001b[0;32m      3\u001b[0m \u001b[1;33m\u001b[0m\u001b[0m\n\u001b[1;32m----> 4\u001b[1;33m \u001b[1;32mfor\u001b[0m \u001b[0m_\u001b[0m \u001b[1;32min\u001b[0m \u001b[0mrange\u001b[0m\u001b[1;33m(\u001b[0m\u001b[0mint\u001b[0m\u001b[1;33m(\u001b[0m\u001b[0minput\u001b[0m\u001b[1;33m(\u001b[0m\u001b[1;33m)\u001b[0m\u001b[1;33m)\u001b[0m\u001b[1;33m)\u001b[0m\u001b[1;33m:\u001b[0m\u001b[1;33m\u001b[0m\u001b[1;33m\u001b[0m\u001b[0m\n\u001b[0m\u001b[0;32m      5\u001b[0m     \u001b[0mprint\u001b[0m\u001b[1;33m(\u001b[0m\u001b[0mbool\u001b[0m\u001b[1;33m(\u001b[0m\u001b[0mre\u001b[0m\u001b[1;33m.\u001b[0m\u001b[0mmatch\u001b[0m\u001b[1;33m(\u001b[0m\u001b[1;34m\"^[\\+-]?\\d*\\.\\d+$\"\u001b[0m\u001b[1;33m,\u001b[0m \u001b[0minput\u001b[0m\u001b[1;33m(\u001b[0m\u001b[1;33m)\u001b[0m\u001b[1;33m)\u001b[0m\u001b[1;33m)\u001b[0m\u001b[1;33m)\u001b[0m\u001b[1;33m\u001b[0m\u001b[1;33m\u001b[0m\u001b[0m\n",
            "\u001b[1;31mValueError\u001b[0m: invalid literal for int() with base 10: '22.22 22.22.2 333'"
          ]
        }
      ]
    },
    {
      "cell_type": "code",
      "metadata": {
        "id": "d791defa"
      },
      "source": [
        "#Question 2 Re.split()\n",
        "regex_pattern = r\"\\D+\"\n",
        "\n",
        "import re\n",
        "print(\"\\n\".join(re.split(regex_pattern, input())))"
      ],
      "id": "d791defa",
      "execution_count": null,
      "outputs": []
    },
    {
      "cell_type": "code",
      "metadata": {
        "id": "b5db9e7b"
      },
      "source": [
        "#Question 3 Group(),Groups(),Groupdict()\n",
        "import re\n",
        "m = re.search(r\"([a-z0-9])\\1+\", input())\n",
        "print(m.group(1) if m else -1)"
      ],
      "id": "b5db9e7b",
      "execution_count": null,
      "outputs": []
    },
    {
      "cell_type": "code",
      "metadata": {
        "id": "f1b0ca79"
      },
      "source": [
        "#Question 4 Re.findall() & Re.finditer()\n",
        "import re\n",
        "a = '[qwrtypsdfghjklzxcvbnm]'\n",
        "b = re.findall('(?<=' + a +')([aeiou]{2,})' + a, input(), re.I)\n",
        "print('\\n'.join(b or ['-1']))"
      ],
      "id": "f1b0ca79",
      "execution_count": null,
      "outputs": []
    },
    {
      "cell_type": "code",
      "metadata": {
        "id": "12a48ca2"
      },
      "source": [
        "#Question 5 Re.start() & Re.end()\n",
        "import re\n",
        "s, k = input(), input()\n",
        "matches = list(re.finditer(r'(?={})'.format(k), s))\n",
        "if matches:\n",
        "    print('\\n'.join(str((match.start(),\n",
        "          match.start() + len(k) - 1)) for match in matches))\n",
        "else:\n",
        "    print('(-1, -1)')"
      ],
      "id": "12a48ca2",
      "execution_count": null,
      "outputs": []
    },
    {
      "cell_type": "code",
      "metadata": {
        "id": "447b861e"
      },
      "source": [
        "#Question 6 Regex Substitution\n",
        "import re\n",
        "[print(re.sub('(?<=\\s)\\&\\&\\s', 'and ', re.sub('\\s\\|\\|\\s', ' or ', input()))) for _ in range(int(input()))]"
      ],
      "id": "447b861e",
      "execution_count": null,
      "outputs": []
    },
    {
      "cell_type": "code",
      "metadata": {
        "id": "2b3ca6f7"
      },
      "source": [
        "#Question 7 Validating Roman Numerals\n",
        "ten      = \"(?:(L?(X){0,3})|(XC)|(XL))?\"\n",
        "thousand = \"(?:(M){0,3})?\"\n",
        "units     = \"(?:(V?(I){0,3})|(IX)|(IV))?\"\n",
        "hundred  = \"(?:(D?(C){0,3})|(CM)|(CD))?\"\n",
        "regex_pattern = r\"^\" + thousand + hundred + ten + unit + \"$\"\n",
        "import re\n",
        "print(str(bool(re.match(regex_pattern, input()))))"
      ],
      "id": "2b3ca6f7",
      "execution_count": null,
      "outputs": []
    },
    {
      "cell_type": "code",
      "metadata": {
        "id": "6d089f9b"
      },
      "source": [
        "#Question 8 Validating phone numbers\n",
        "import re\n",
        "N = input()\n",
        "\n",
        "for i in range(int(N)):\n",
        "    if re.match(r'[789]\\d{9}$', input()):   \n",
        "        print ('YES')\n",
        "    else:\n",
        "        print ('NO')"
      ],
      "id": "6d089f9b",
      "execution_count": null,
      "outputs": []
    },
    {
      "cell_type": "code",
      "metadata": {
        "id": "0e88e283"
      },
      "source": [
        "#Question 9 Validating and Parsing Email Addresses\n",
        "import re\n",
        "n=int(input())\n",
        "\n",
        "regexpatt=r'[\\S]+\\s<[a-z][\\w\\-\\.]*@[a-z]+[\\.][a-z]{1,3}>$'\n",
        "for i in range(0,n):\n",
        "    match=re.search(regexpatt, input())\n",
        "    if match:\n",
        "        print(match.group())"
      ],
      "id": "0e88e283",
      "execution_count": null,
      "outputs": []
    },
    {
      "cell_type": "code",
      "metadata": {
        "id": "58d40f4d"
      },
      "source": [
        "#Question 10 Hex Color Code\n",
        "import re\n",
        "for i in range(int(input())):\n",
        "    matches = re.findall(r':?.(#[0-9a-fA-F]{6}|#[0-9a-fA-F]{3})', input())\n",
        "    if matches:\n",
        "        print(*matches, sep='\\n')"
      ],
      "id": "58d40f4d",
      "execution_count": null,
      "outputs": []
    },
    {
      "cell_type": "code",
      "metadata": {
        "id": "3fabadad"
      },
      "source": [
        "#Question 11 HTML parser part-1\n",
        "n = int(input())\n",
        "from html.parser import HTMLParser\n",
        "\n",
        "list1 = []\n",
        "for i in range(n):\n",
        "      list1.append(str(input()))\n",
        "\n",
        "class MyHTMLParser(HTMLParser):\n",
        "    def handle_starttag(self,tag,args):\n",
        "        self.handler(\"Start\",tag,args)\n",
        "    def handle_endtag(self,tag):\n",
        "        self.handler(\"End\",tag)\n",
        "    def handle_startendtag(self,tag,args):\n",
        "        self.handler(\"Empty\",tag,args)\n",
        "    def handler(self,type,tag,args=[]):\n",
        "        print(\"%-6s: %s\" % (type,tag))\n",
        "        if len(args) > 0:\n",
        "            for a in args:\n",
        "                print(\"-> %s > %s\" % (a[0],a[1]))\n",
        "\n",
        "parser=MyHTMLParser()\n",
        "parser.feed(\"\\n\".join(list1))"
      ],
      "id": "3fabadad",
      "execution_count": null,
      "outputs": []
    },
    {
      "cell_type": "code",
      "metadata": {
        "id": "4168962e"
      },
      "source": [
        "#Question 12 HTML parser part-2\n",
        "from html.parser import HTMLParser\n",
        "class CustomHTMLParser(HTMLParser):\n",
        "    def handle_comment(self, data):\n",
        "        number_of_line = len(data.split('\\n'))\n",
        "        if number_of_line>1:\n",
        "            print('>>> Multi-line Comment')\n",
        "        else:\n",
        "            print('>>> Single-line Comment')\n",
        "        if data.strip():\n",
        "            print(data)\n",
        "\n",
        "    def handle_data(self, data):\n",
        "        if data.strip():\n",
        "            print(\">>> Data\")\n",
        "            print(data)\n",
        "\n",
        "parser = CustomHTMLParser()\n",
        "\n",
        "n = int(input())\n",
        "\n",
        "html_string = ''\n",
        "for i in range(n):\n",
        "    html_string += input().rstrip()+'\\n'\n",
        "    \n",
        "parser.feed(html_string)\n",
        "parser.close()"
      ],
      "id": "4168962e",
      "execution_count": null,
      "outputs": []
    },
    {
      "cell_type": "code",
      "metadata": {
        "id": "5ab742ec"
      },
      "source": [
        "#Question 13 Detect HTML Tags, Attributes and Attribute Values\n",
        "from html.parser import HTMLParser\n",
        "class MyHTMLParser(HTMLParser):\n",
        "    def handle_starttag(self, tag, attrs):\n",
        "        print(tag)\n",
        "        [print('-> {} > {}'.format(*attr)) for attr in attrs]\n",
        "        \n",
        "html = '\\n'.join([input() for _ in range(int(input()))])\n",
        "parser = MyHTMLParser()\n",
        "parser.feed(html)\n",
        "parser.close()"
      ],
      "id": "5ab742ec",
      "execution_count": null,
      "outputs": []
    },
    {
      "cell_type": "code",
      "metadata": {
        "id": "4500190b"
      },
      "source": [
        "#question 14 Validating UID\n",
        "import re\n",
        "\n",
        "for _ in range(int(input())):\n",
        "    u = ''.join(sorted(input()))\n",
        "    try:\n",
        "        assert re.search(r'[A-Z]{2}', u)\n",
        "        assert re.search(r'\\d\\d\\d', u)\n",
        "        assert not re.search(r'[^a-zA-Z0-9]', u)\n",
        "        assert not re.search(r'(.)\\1', u)\n",
        "        assert len(u) == 10\n",
        "    except:\n",
        "        print('Invalid')\n",
        "    else:\n",
        "        print('Valid')"
      ],
      "id": "4500190b",
      "execution_count": null,
      "outputs": []
    },
    {
      "cell_type": "code",
      "metadata": {
        "id": "5670b639"
      },
      "source": [
        "#Question 15 Validating Credit Card Numbers\n",
        "import re\n",
        "\n",
        "\n",
        "for _ in range(int(input())):\n",
        "    s = input()\n",
        "\n",
        "    if re.match(r\"^[456]([\\d]{15}|[\\d]{3}(-[\\d]{4}){3})$\", s) and not re.search(r\"([\\d])\\1\\1\\1\", s.replace(\"-\", \"\")):\n",
        "        print(\"Valid\")\n",
        "    else:\n",
        "        print(\"Invalid\")"
      ],
      "id": "5670b639",
      "execution_count": null,
      "outputs": []
    },
    {
      "cell_type": "code",
      "metadata": {
        "id": "587db067"
      },
      "source": [
        "#Question 16 Validating Postal Codes\n",
        "regex_integer_in_range = r\"^[1-9][0-9]{5}$\"\n",
        "regex_alternating_repetitive_digit_pair = r\"(\\d)(?=.\\1)\"\n",
        "\n",
        "\n",
        "import re\n",
        "P = input()\n",
        "\n",
        "print (bool(re.match(regex_integer_in_range, P)) \n",
        "and len(re.findall(regex_alternating_repetitive_digit_pair, P)) < 2)"
      ],
      "id": "587db067",
      "execution_count": null,
      "outputs": []
    },
    {
      "cell_type": "code",
      "metadata": {
        "id": "f8605749"
      },
      "source": [
        "#Question 17 Matrix Scriptss\n",
        "import re\n",
        "n, m = map(int, input().split())\n",
        "arr = ''.join([''.join(t) for t in zip(*[input() for _ in range(n)])])\n",
        "print(re.sub(r'\\b[^a-zA-Z0-9]+\\b', r' ', arr))"
      ],
      "id": "f8605749",
      "execution_count": null,
      "outputs": []
    }
  ]
}