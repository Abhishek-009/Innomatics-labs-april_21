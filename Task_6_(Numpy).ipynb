{
  "nbformat": 4,
  "nbformat_minor": 0,
  "metadata": {
    "kernelspec": {
      "display_name": "Python 3",
      "language": "python",
      "name": "python3"
    },
    "language_info": {
      "codemirror_mode": {
        "name": "ipython",
        "version": 3
      },
      "file_extension": ".py",
      "mimetype": "text/x-python",
      "name": "python",
      "nbconvert_exporter": "python",
      "pygments_lexer": "ipython3",
      "version": "3.8.5"
    },
    "toc": {
      "base_numbering": 1,
      "nav_menu": {},
      "number_sections": true,
      "sideBar": true,
      "skip_h1_title": false,
      "title_cell": "Table of Contents",
      "title_sidebar": "Contents",
      "toc_cell": false,
      "toc_position": {},
      "toc_section_display": true,
      "toc_window_display": false
    },
    "colab": {
      "name": "Task- 6 (Numpy).ipynb",
      "provenance": [],
      "include_colab_link": true
    }
  },
  "cells": [
    {
      "cell_type": "markdown",
      "metadata": {
        "id": "view-in-github",
        "colab_type": "text"
      },
      "source": [
        "<a href=\"https://colab.research.google.com/github/Abhishek-009/Innomatics-labs-april_21/blob/main/Task_6_(Numpy).ipynb\" target=\"_parent\"><img src=\"https://colab.research.google.com/assets/colab-badge.svg\" alt=\"Open In Colab\"/></a>"
      ]
    },
    {
      "cell_type": "code",
      "metadata": {
        "id": "-xKrQG7GUW7E"
      },
      "source": [
        "#Question 1 Arrays\n",
        "import numpy\n",
        "\n",
        "def arrays(arr):\n",
        "\n",
        "    return numpy.array(arr,float)[::-1]\n",
        "arr = input().strip().split(' ')\n",
        "result = arrays(arr)\n",
        "print(result)"
      ],
      "execution_count": null,
      "outputs": []
    },
    {
      "cell_type": "code",
      "metadata": {
        "id": "i1mP7vJSUW7J"
      },
      "source": [
        "#Question 2 Shape and Reshape\n",
        "import numpy as np\n",
        "arr=np.array(input().split(),int)\n",
        "print(arr.reshape(3,3))"
      ],
      "execution_count": null,
      "outputs": []
    },
    {
      "cell_type": "code",
      "metadata": {
        "id": "bNqq4vD3UW7K"
      },
      "source": [
        "#Question 3 transpose and flatten\n",
        "import numpy as np\n",
        "n,m=input().split()\n",
        "arr=np.array([input().strip().split(' ') for _ in range(int(n))],int)\n",
        "print(arr.transpose())\n",
        "print(arr.flatten())\n"
      ],
      "execution_count": null,
      "outputs": []
    },
    {
      "cell_type": "code",
      "metadata": {
        "id": "z9Jca_pZUW7L"
      },
      "source": [
        "#Question 4 concatenate\n",
        "import numpy\n",
        "n,m,p=input().split()\n",
        "arr1=numpy.array([input().split() for _ in range (int(n))],int)\n",
        "arr2=numpy.array([input().split() for _ in range (int(m))],int)\n",
        "print(numpy.concatenate((arr1,arr2)))"
      ],
      "execution_count": null,
      "outputs": []
    },
    {
      "cell_type": "code",
      "metadata": {
        "id": "-Hk-XBw1UW7M"
      },
      "source": [
        "#Question 5 Zeros and ones\n",
        "import numpy\n",
        "i=tuple(map(int,input().split()))\n",
        "print(numpy.zeros(i,int))\n",
        "print(numpy.ones(i,int))"
      ],
      "execution_count": null,
      "outputs": []
    },
    {
      "cell_type": "code",
      "metadata": {
        "id": "Dha7TtY2UW7M"
      },
      "source": [
        "#Question 6 eye and identity\n",
        "import numpy\n",
        "numpy.set_printoptions(legacy='1.13')\n",
        "m,i=(map(int,input().split()))\n",
        "print(numpy.eye(m,i))\n"
      ],
      "execution_count": null,
      "outputs": []
    },
    {
      "cell_type": "code",
      "metadata": {
        "id": "pkacdGY8UW7N"
      },
      "source": [
        "#Question 7 Array mathematics\n",
        "import numpy\n",
        "n,m=input().split()\n",
        "a=numpy.array([input().split() for _ in range(int(n))],int)\n",
        "b=numpy.array([input().split()for _ in range(int(n))],int)\n",
        "print(a+b)\n",
        "print(a-b)\n",
        "print(a*b)\n",
        "print(a//b)\n",
        "print(a%b)\n",
        "print(a**b)\n"
      ],
      "execution_count": null,
      "outputs": []
    },
    {
      "cell_type": "code",
      "metadata": {
        "id": "mNA7wpHRUW7N"
      },
      "source": [
        "#Question 8 Floor,ceil and rint\n",
        "import numpy\n",
        "numpy.set_printoptions(legacy='1.13')\n",
        "arr1=numpy.array(input().split(),float)\n",
        "print(numpy.floor(arr1))\n",
        "print(numpy.ceil(arr1))\n",
        "print(numpy.rint(arr1))"
      ],
      "execution_count": null,
      "outputs": []
    },
    {
      "cell_type": "code",
      "metadata": {
        "id": "EkGohSX_UW7O"
      },
      "source": [
        "#Question 9 Sum and prod\n",
        "import numpy\n",
        "n,m=map(int,input().split())\n",
        "arr1=numpy.array([input().split() for _ in range (n)],int)\n",
        "arr1=numpy.sum(arr1,axis=0)\n",
        "print(numpy.prod(arr1))"
      ],
      "execution_count": null,
      "outputs": []
    },
    {
      "cell_type": "code",
      "metadata": {
        "id": "M0co8dkMUW7O"
      },
      "source": [
        "#Question 10 Min and Max\n",
        "import numpy\n",
        "n,m=map(int,input().split())\n",
        "arr1=numpy.array([input().split() for _ in range(n)],int)\n",
        "arr1=numpy.min(arr1,axis=1)\n",
        "print(numpy.max(arr1))"
      ],
      "execution_count": null,
      "outputs": []
    },
    {
      "cell_type": "code",
      "metadata": {
        "id": "0AAY_cxuUW7O"
      },
      "source": [
        "#Question 11 Mean,var,std\n",
        "import numpy\n",
        "n,m=map(int,input().split())\n",
        "arr1=numpy.array([input().split() for _ in range (n)],int)\n",
        "print(numpy.mean(arr1,axis=1))\n",
        "print(numpy.var(arr1,axis=0))\n",
        "print(numpy.around(numpy.std(arr1),decimals=11))"
      ],
      "execution_count": null,
      "outputs": []
    },
    {
      "cell_type": "code",
      "metadata": {
        "id": "nLgq-RAfUW7P"
      },
      "source": [
        "#Question 12 Dot and cross\n",
        "import numpy\n",
        "n=int(input())\n",
        "arr1=numpy.array([input().split() for _ in range(n)],int)\n",
        "arr2=numpy.array([input().split() for _ in range(n)],int)\n",
        "print(numpy.dot(arr1,arr2))"
      ],
      "execution_count": null,
      "outputs": []
    },
    {
      "cell_type": "code",
      "metadata": {
        "id": "xAQGd0FWUW7P"
      },
      "source": [
        "#Question 13 Inner and outer\n",
        "import numpy\n",
        "arr1=numpy.array(input().split(),int)\n",
        "arr2=numpy.array(input().split(),int)\n",
        "print(numpy.inner(arr1,arr2))\n",
        "print(numpy.outer(arr1,arr2))"
      ],
      "execution_count": null,
      "outputs": []
    },
    {
      "cell_type": "code",
      "metadata": {
        "id": "xCvuH2f_UW7P"
      },
      "source": [
        "#Question 14 Polynomials\n",
        "import numpy\n",
        "arr1=numpy.array(input().split(),float)\n",
        "x=float(input())\n",
        "print(numpy.polyval(arr1,x))"
      ],
      "execution_count": null,
      "outputs": []
    },
    {
      "cell_type": "code",
      "metadata": {
        "id": "f64DpO4yUW7Q"
      },
      "source": [
        "#Question 15 linear algebra\n",
        "import numpy\n",
        "n=int(input())\n",
        "arr1=numpy.array([input().split() for _ in range (n)],float)\n",
        "print(numpy.round(numpy.linalg.det(arr1),2))"
      ],
      "execution_count": null,
      "outputs": []
    }
  ]
}