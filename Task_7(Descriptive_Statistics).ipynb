{
  "nbformat": 4,
  "nbformat_minor": 0,
  "metadata": {
    "kernelspec": {
      "display_name": "Python 3",
      "language": "python",
      "name": "python3"
    },
    "language_info": {
      "codemirror_mode": {
        "name": "ipython",
        "version": 3
      },
      "file_extension": ".py",
      "mimetype": "text/x-python",
      "name": "python",
      "nbconvert_exporter": "python",
      "pygments_lexer": "ipython3",
      "version": "3.8.3"
    },
    "colab": {
      "name": "Task-7 (Descriptive Statistics).ipynb",
      "provenance": [],
      "collapsed_sections": [],
      "include_colab_link": true
    }
  },
  "cells": [
    {
      "cell_type": "markdown",
      "metadata": {
        "id": "view-in-github",
        "colab_type": "text"
      },
      "source": [
        "<a href=\"https://colab.research.google.com/github/Abhishek-009/Innomatics-labs-april_21/blob/main/Task_7(Descriptive_Statistics).ipynb\" target=\"_parent\"><img src=\"https://colab.research.google.com/assets/colab-badge.svg\" alt=\"Open In Colab\"/></a>"
      ]
    },
    {
      "cell_type": "markdown",
      "metadata": {
        "id": "N1xMZzNnIpzQ"
      },
      "source": [
        "# Descriptive Statistics"
      ]
    },
    {
      "cell_type": "markdown",
      "metadata": {
        "id": "n_YjoR2SIpzU"
      },
      "source": [
        "## Mean ($\\mu$)\n",
        "                           \n",
        " \n",
        "        \n",
        "Mean is one of the measure of central tendency. It is the arithemetic average of a dataset. It is found by adding the numbers in the dataset and divide by the number of observations in the dataset. Mean is mostly used for continuous data. Mean is sensitive to outliers i.e., having extremely high or low values in the dataset affect the $mean$.\n",
        "\n",
        "### $Formula$"
      ]
    },
    {
      "cell_type": "markdown",
      "metadata": {
        "id": "6y3040sAIpzV"
      },
      "source": [
        "Mean =$\\frac {1}{n} $ $\\sum _{i=1}^{n}$ $a_i$ $\\frac {a_1+a_2+\\cdots +a_n} {n}$\n",
        "\n",
        "$a_1,a_2\\cdots a_n$ = data points\n",
        "\n",
        "n= number of data points"
      ]
    },
    {
      "cell_type": "code",
      "metadata": {
        "id": "vV2YIkhQIpzV"
      },
      "source": [
        "import numpy as np\n",
        "import pandas as pd"
      ],
      "execution_count": 1,
      "outputs": []
    },
    {
      "cell_type": "code",
      "metadata": {
        "id": "Jfjv8xBJIpzW"
      },
      "source": [
        "df=pd.read_csv('data.csv')"
      ],
      "execution_count": 3,
      "outputs": []
    },
    {
      "cell_type": "code",
      "metadata": {
        "colab": {
          "base_uri": "https://localhost:8080/",
          "height": 203
        },
        "id": "kkMGVZSzIpzW",
        "outputId": "f9682a45-635c-493b-d5d1-45e6e194c861"
      },
      "source": [
        "df.head()"
      ],
      "execution_count": null,
      "outputs": [
        {
          "output_type": "execute_result",
          "data": {
            "text/html": [
              "<div>\n",
              "<style scoped>\n",
              "    .dataframe tbody tr th:only-of-type {\n",
              "        vertical-align: middle;\n",
              "    }\n",
              "\n",
              "    .dataframe tbody tr th {\n",
              "        vertical-align: top;\n",
              "    }\n",
              "\n",
              "    .dataframe thead th {\n",
              "        text-align: right;\n",
              "    }\n",
              "</style>\n",
              "<table border=\"1\" class=\"dataframe\">\n",
              "  <thead>\n",
              "    <tr style=\"text-align: right;\">\n",
              "      <th></th>\n",
              "      <th>Mthly_HH_Income</th>\n",
              "      <th>Mthly_HH_Expense</th>\n",
              "      <th>No_of_Fly_Members</th>\n",
              "      <th>Emi_or_Rent_Amt</th>\n",
              "      <th>Annual_HH_Income</th>\n",
              "      <th>Highest_Qualified_Member</th>\n",
              "      <th>No_of_Earning_Members</th>\n",
              "    </tr>\n",
              "  </thead>\n",
              "  <tbody>\n",
              "    <tr>\n",
              "      <th>0</th>\n",
              "      <td>5000</td>\n",
              "      <td>8000</td>\n",
              "      <td>3</td>\n",
              "      <td>2000</td>\n",
              "      <td>64200</td>\n",
              "      <td>Under-Graduate</td>\n",
              "      <td>1</td>\n",
              "    </tr>\n",
              "    <tr>\n",
              "      <th>1</th>\n",
              "      <td>6000</td>\n",
              "      <td>7000</td>\n",
              "      <td>2</td>\n",
              "      <td>3000</td>\n",
              "      <td>79920</td>\n",
              "      <td>Illiterate</td>\n",
              "      <td>1</td>\n",
              "    </tr>\n",
              "    <tr>\n",
              "      <th>2</th>\n",
              "      <td>10000</td>\n",
              "      <td>4500</td>\n",
              "      <td>2</td>\n",
              "      <td>0</td>\n",
              "      <td>112800</td>\n",
              "      <td>Under-Graduate</td>\n",
              "      <td>1</td>\n",
              "    </tr>\n",
              "    <tr>\n",
              "      <th>3</th>\n",
              "      <td>10000</td>\n",
              "      <td>2000</td>\n",
              "      <td>1</td>\n",
              "      <td>0</td>\n",
              "      <td>97200</td>\n",
              "      <td>Illiterate</td>\n",
              "      <td>1</td>\n",
              "    </tr>\n",
              "    <tr>\n",
              "      <th>4</th>\n",
              "      <td>12500</td>\n",
              "      <td>12000</td>\n",
              "      <td>2</td>\n",
              "      <td>3000</td>\n",
              "      <td>147000</td>\n",
              "      <td>Graduate</td>\n",
              "      <td>1</td>\n",
              "    </tr>\n",
              "  </tbody>\n",
              "</table>\n",
              "</div>"
            ],
            "text/plain": [
              "   Mthly_HH_Income  ...  No_of_Earning_Members\n",
              "0             5000  ...                      1\n",
              "1             6000  ...                      1\n",
              "2            10000  ...                      1\n",
              "3            10000  ...                      1\n",
              "4            12500  ...                      1\n",
              "\n",
              "[5 rows x 7 columns]"
            ]
          },
          "metadata": {
            "tags": []
          },
          "execution_count": 6
        }
      ]
    },
    {
      "cell_type": "code",
      "metadata": {
        "colab": {
          "base_uri": "https://localhost:8080/"
        },
        "id": "0Xovft4IIpzX",
        "outputId": "65783e7e-b074-44d9-81a2-e9be8ae926f5"
      },
      "source": [
        "df.shape"
      ],
      "execution_count": 4,
      "outputs": [
        {
          "output_type": "execute_result",
          "data": {
            "text/plain": [
              "(50, 7)"
            ]
          },
          "metadata": {
            "tags": []
          },
          "execution_count": 4
        }
      ]
    },
    {
      "cell_type": "code",
      "metadata": {
        "colab": {
          "base_uri": "https://localhost:8080/"
        },
        "id": "VkMCqVI6IpzY",
        "outputId": "cd894756-1330-41fd-b48a-e180d5ed5d2f"
      },
      "source": [
        "#mean without libray function \n",
        "sum1=sum(df.No_of_Fly_Members)\n",
        "print(sum1/50)\n",
        "\n",
        "#mean with library function\n",
        "df.No_of_Fly_Members.mean()"
      ],
      "execution_count": 5,
      "outputs": [
        {
          "output_type": "stream",
          "text": [
            "4.06\n"
          ],
          "name": "stdout"
        },
        {
          "output_type": "execute_result",
          "data": {
            "text/plain": [
              "4.06"
            ]
          },
          "metadata": {
            "tags": []
          },
          "execution_count": 5
        }
      ]
    },
    {
      "cell_type": "markdown",
      "metadata": {
        "id": "1dZB5kNEIpzY"
      },
      "source": [
        "## Median \n",
        "   \n",
        "\n",
        "Median, in statistics, is the middle value of the given list of data, when arranged in an order. The arrangement of data or observations can be done either in ascending order or descending order. In Maths, the median is also a type of average, which is used to find the center value. Therefore, it is also called measure of central tendency. \n",
        "Example: The median of 2,3,4 is 3.\n",
        "\n",
        "### $Formula$\n",
        "\n",
        "#### Odd Number of Observations\n",
        "If the total number of observation given is odd, then the formula to calculate the median is:\n",
        "Median =${\\frac {n+1}{2}}^{th}$ term.\n",
        "\n",
        "#### Even Number of Observations\n",
        "If the total number of observation is even, then the median formula is:\n",
        "Median  = [$\\frac {n}{2}^{th} term $+ ($\\frac{n}{2})+1 ^{th} term $]/2\n",
        "\n",
        "where n is the number of observations\n"
      ]
    },
    {
      "cell_type": "code",
      "metadata": {
        "id": "z4nqCxV6IpzZ",
        "outputId": "4de88bc4-eea6-4980-ce41-f4b7a779c9b1"
      },
      "source": [
        "#median without library function\n",
        "n=50\n",
        "print((df.No_of_Fly_Members[25]+df.No_of_Fly_Members[26])/2)\n",
        "\n",
        "\n",
        "#median with library function\n",
        "print(df.No_of_Fly_Members.median())"
      ],
      "execution_count": null,
      "outputs": [
        {
          "output_type": "stream",
          "text": [
            "4.0\n",
            "4.0\n"
          ],
          "name": "stdout"
        }
      ]
    },
    {
      "cell_type": "markdown",
      "metadata": {
        "id": "2kr2fAirIpza"
      },
      "source": [
        "## Mode\n",
        "\n",
        "A mode is defined as the value that has a higher frequency in a given set of values [dataset]. It is the value that appears the most number of times. It is used for categorical dataset.\n",
        "Example: In the given set of data: 2, 4, 5, 5, 6, 7, the mode of the data set is 5 since it has appeared in the set twice.\n",
        "\n",
        "When there are two modes in a data set, then the set is called $bimodal$.\n",
        "For example, The mode of Set A = {2,2,2,3,4,4,5,5,5} is 2 and 5, because both 2 and 5 is repeated three times in the given set.\n",
        "\n",
        "When there are three modes in a data set, then the set is called $trimodal$.\n",
        "For example, the mode of set A = {2,2,2,3,4,4,5,5,5,7,8,8,8} is 2, 5 and 8\n",
        "\n",
        "When there are four or more modes in a data set, then the set is called $multimodal$"
      ]
    },
    {
      "cell_type": "markdown",
      "metadata": {
        "id": "0UiazAy0Ipzb"
      },
      "source": [
        "### $Formula$\n",
        " Mode= l+($\\frac {f_1-f_0}{2f_1-f_0-f_2}$)$\\times$h\n",
        " \n",
        "l = lower limit of the modal class\n",
        "\n",
        "h = size of the class interval\n",
        "\n",
        "f1 = frequency of the modal class\n",
        "\n",
        "f0 = frequency of the class preceding the modal class\n",
        "\n",
        "f2 = frequency of the class succeeding the modal class"
      ]
    },
    {
      "cell_type": "code",
      "metadata": {
        "colab": {
          "base_uri": "https://localhost:8080/"
        },
        "id": "llDN7coRIpzb",
        "outputId": "ab3fd940-9df6-46fc-faf9-6f44a2b588ac"
      },
      "source": [
        "#mode without library function\n",
        "print(df.Highest_Qualified_Member[max(df.Highest_Qualified_Member.value_counts())])\n",
        "\n",
        "#mode with library function\n",
        "print((df.Highest_Qualified_Member).mode())"
      ],
      "execution_count": null,
      "outputs": [
        {
          "output_type": "stream",
          "text": [
            "Graduate\n",
            "0    Graduate\n",
            "dtype: object\n"
          ],
          "name": "stdout"
        }
      ]
    },
    {
      "cell_type": "markdown",
      "metadata": {
        "id": "qxq_Zh4rIpzb"
      },
      "source": [
        "## Variance $\\sigma^2$\n",
        "\n",
        " Variance defines who the data is sprea around the mean. Variance is the expected value of the squared variation of a random variable from its mean value, in probability and statistics.The value of variance is equal to the square of standard deviation, which is another central tool.It is sensitive to outliers because vriance depend on the value of mean. Variance is symbolically represented by $\\sigma^2$, $s^2$, or Var(X). "
      ]
    },
    {
      "cell_type": "markdown",
      "metadata": {
        "id": "jVBPx_QIIpzc"
      },
      "source": [
        "### $Formula$\n",
        "\n",
        "$\\sigma^2$= $\\frac {1}{n} $ $\\sum _{i=1}^{n}$ ($x_i$-$\\mu$)$^2$\n",
        "\n",
        "x= Data point\n",
        "\n",
        "$\\mu$= Mean\n",
        "\n",
        "n= Number of data points\n"
      ]
    },
    {
      "cell_type": "code",
      "metadata": {
        "colab": {
          "base_uri": "https://localhost:8080/"
        },
        "id": "QpWEgPwpIpzc",
        "outputId": "da1db5fa-d71b-4d6c-f120-5af65c761ecb"
      },
      "source": [
        "#variance without library function\n",
        "vari=np.array(df.No_of_Fly_Members) \n",
        "print((sum((vari-df.No_of_Fly_Members.mean())**2))/50)\n",
        "\n",
        "#variance with library function\n",
        "print(df.No_of_Fly_Members.var())"
      ],
      "execution_count": null,
      "outputs": [
        {
          "output_type": "stream",
          "text": [
            "2.2564\n",
            "2.302448979591837\n"
          ],
          "name": "stdout"
        }
      ]
    },
    {
      "cell_type": "markdown",
      "metadata": {
        "id": "SpUe-Jz_Ipzc"
      },
      "source": [
        "## Standard Deviation $\\sigma[\n",
        "\n",
        "Standard Deviation is a measure which shows how much variation (such as spread, dispersion, spread,) from the mean exists. The standard deviation indicates a “typical” deviation from the mean. It is a popular measure of variability because it returns to the original units of measure of the data set. It give the actal spread of the data set around the mean."
      ]
    },
    {
      "cell_type": "markdown",
      "metadata": {
        "id": "dPHeTZwYIpzd"
      },
      "source": [
        "### $Formula$\n",
        "\n",
        "$\\sigma^2$= $\\sqrt{ \\frac {1}{n} \\sum _{i=1}^{n} (x_i-\\mu)^2}$\n",
        "\n",
        "\n",
        "σ = Population standard deviation\n",
        "\n",
        "N = Number of observations in population\n",
        "\n",
        "Xi = ith observation in the population\n",
        "\n",
        "μ = Population mean"
      ]
    },
    {
      "cell_type": "code",
      "metadata": {
        "id": "P3j7tjBeIpzd",
        "outputId": "64fa505f-8c45-4901-d4e5-33d5c2261c19"
      },
      "source": [
        "#Standard deviation without library function\n",
        "print(np.sqrt((sum((vari-df.No_of_Fly_Members.mean())**2))/50))\n",
        "\n",
        "#Standard deviation with library function\n",
        "print(df.No_of_Fly_Members.std())"
      ],
      "execution_count": null,
      "outputs": [
        {
          "output_type": "stream",
          "text": [
            "1.502131818450032\n",
            "1.5173822786601394\n"
          ],
          "name": "stdout"
        }
      ]
    },
    {
      "cell_type": "markdown",
      "metadata": {
        "id": "MaSA6kifIpzd"
      },
      "source": [
        "## Correlation \n",
        "\n",
        "![image.png](attachment:0f735565-e660-4e91-842b-c228262ac85f.png)\n",
        "\n",
        "Correlation is described as a measure in statistics, which determines the degree to which two or more random variables move in tandem. A method of statistical evaluation used to study the strength of a relationship between two, numerically measured, continuous variables . During the study of two variables, if it has been observed that the movement in one variable, is reciprocated by an equivalent movement another variable, in some way or the other, then the variables are said to be correlated. The value lies between -1 to +1. Similar to covariance correlation is of two types i.e. positive correlation or negative correlation. The variables are said to be positively or directly correlated when the two variables move in the same direction. On the contrary, when the two variables move in opposite direction, the correlation is negative or inverse. They are sensitive to outliers."
      ]
    },
    {
      "cell_type": "markdown",
      "metadata": {
        "id": "gyVINU1aIpze"
      },
      "source": [
        "### $Formula$\n",
        "\n",
        "corr(X,Y)= $\\frac{cov (X,Y)}{\\sigma_X \\sigma_Y}$= $\\sum \\frac{(X-\\mu_X)(Y-\\mu_Y)}{\\sigma_X \\sigma_Y}$"
      ]
    },
    {
      "cell_type": "code",
      "metadata": {
        "colab": {
          "base_uri": "https://localhost:8080/",
          "height": 234
        },
        "id": "3W6l-xiAIpze",
        "outputId": "f4c12ed8-7308-4538-f7d2-68e7b1f13706"
      },
      "source": [
        "#correlation for the given dataset\n",
        "df.corr()"
      ],
      "execution_count": null,
      "outputs": [
        {
          "output_type": "execute_result",
          "data": {
            "text/html": [
              "<div>\n",
              "<style scoped>\n",
              "    .dataframe tbody tr th:only-of-type {\n",
              "        vertical-align: middle;\n",
              "    }\n",
              "\n",
              "    .dataframe tbody tr th {\n",
              "        vertical-align: top;\n",
              "    }\n",
              "\n",
              "    .dataframe thead th {\n",
              "        text-align: right;\n",
              "    }\n",
              "</style>\n",
              "<table border=\"1\" class=\"dataframe\">\n",
              "  <thead>\n",
              "    <tr style=\"text-align: right;\">\n",
              "      <th></th>\n",
              "      <th>Mthly_HH_Income</th>\n",
              "      <th>Mthly_HH_Expense</th>\n",
              "      <th>No_of_Fly_Members</th>\n",
              "      <th>Emi_or_Rent_Amt</th>\n",
              "      <th>Annual_HH_Income</th>\n",
              "      <th>No_of_Earning_Members</th>\n",
              "    </tr>\n",
              "  </thead>\n",
              "  <tbody>\n",
              "    <tr>\n",
              "      <th>Mthly_HH_Income</th>\n",
              "      <td>1.000000</td>\n",
              "      <td>0.649215</td>\n",
              "      <td>0.448317</td>\n",
              "      <td>0.036976</td>\n",
              "      <td>0.970315</td>\n",
              "      <td>0.347883</td>\n",
              "    </tr>\n",
              "    <tr>\n",
              "      <th>Mthly_HH_Expense</th>\n",
              "      <td>0.649215</td>\n",
              "      <td>1.000000</td>\n",
              "      <td>0.639702</td>\n",
              "      <td>0.405280</td>\n",
              "      <td>0.591222</td>\n",
              "      <td>0.311915</td>\n",
              "    </tr>\n",
              "    <tr>\n",
              "      <th>No_of_Fly_Members</th>\n",
              "      <td>0.448317</td>\n",
              "      <td>0.639702</td>\n",
              "      <td>1.000000</td>\n",
              "      <td>0.085808</td>\n",
              "      <td>0.430868</td>\n",
              "      <td>0.597482</td>\n",
              "    </tr>\n",
              "    <tr>\n",
              "      <th>Emi_or_Rent_Amt</th>\n",
              "      <td>0.036976</td>\n",
              "      <td>0.405280</td>\n",
              "      <td>0.085808</td>\n",
              "      <td>1.000000</td>\n",
              "      <td>0.002716</td>\n",
              "      <td>-0.097431</td>\n",
              "    </tr>\n",
              "    <tr>\n",
              "      <th>Annual_HH_Income</th>\n",
              "      <td>0.970315</td>\n",
              "      <td>0.591222</td>\n",
              "      <td>0.430868</td>\n",
              "      <td>0.002716</td>\n",
              "      <td>1.000000</td>\n",
              "      <td>0.296679</td>\n",
              "    </tr>\n",
              "    <tr>\n",
              "      <th>No_of_Earning_Members</th>\n",
              "      <td>0.347883</td>\n",
              "      <td>0.311915</td>\n",
              "      <td>0.597482</td>\n",
              "      <td>-0.097431</td>\n",
              "      <td>0.296679</td>\n",
              "      <td>1.000000</td>\n",
              "    </tr>\n",
              "  </tbody>\n",
              "</table>\n",
              "</div>"
            ],
            "text/plain": [
              "                       Mthly_HH_Income  ...  No_of_Earning_Members\n",
              "Mthly_HH_Income               1.000000  ...               0.347883\n",
              "Mthly_HH_Expense              0.649215  ...               0.311915\n",
              "No_of_Fly_Members             0.448317  ...               0.597482\n",
              "Emi_or_Rent_Amt               0.036976  ...              -0.097431\n",
              "Annual_HH_Income              0.970315  ...               0.296679\n",
              "No_of_Earning_Members         0.347883  ...               1.000000\n",
              "\n",
              "[6 rows x 6 columns]"
            ]
          },
          "metadata": {
            "tags": []
          },
          "execution_count": 11
        }
      ]
    },
    {
      "cell_type": "markdown",
      "metadata": {
        "id": "K_SI4roZIpze"
      },
      "source": [
        "\n",
        "\n",
        "![image.png](attachment:86c13785-4a9d-45be-bc41-cb56fd2f9b7f.png)\n",
        "\n",
        "The Normal Distribution is defined by the probability density function for a continuous random variable in a system. Let us say, f(x) is the probability density function and X is the random variable. Hence, it defines a function which is integrated between the range or interval (x to x + dx), giving the probability of random variable X, by considering the values between x and x+dx\n",
        "\n",
        "#### Normal Distribution Curve\n",
        "The random variables following the normal distribution are those whose values can find any unknown value in a given range.Whereas, the normal distribution doesn’t even bother about the range. The range can also extend to –∞ to + ∞ and still we can find a smooth curve. These random variables are called Continuous Variables, and the Normal Distribution then provides here probability of the value lying in a particular range for a given experiment. Also, use the normal distribution calculator to find the probability density function by just providing the mean and standard deviation value."
      ]
    },
    {
      "cell_type": "markdown",
      "metadata": {
        "id": "KksCa1ryIpzf"
      },
      "source": [
        "### $Formula$\n",
        "f(x,$\\mu,\\sigma$)= $\\frac{1}{\\sigma \\sqrt{2 \\pi}}$ $e\\frac{-(x-\\mu)^2}{2\\sigma^2}$"
      ]
    },
    {
      "cell_type": "code",
      "metadata": {
        "colab": {
          "base_uri": "https://localhost:8080/",
          "height": 338
        },
        "id": "35o192R2Ipzf",
        "outputId": "e40423ba-4b66-420b-ef01-8f3e14fd6982"
      },
      "source": [
        "#Normal distribution\n",
        "import seaborn as sns\n",
        "\n",
        "mu, sigma = 0.5, 0.1\n",
        "s = np.random.normal(mu, sigma, 1000)\n",
        "sns.distplot(s)\n"
      ],
      "execution_count": null,
      "outputs": [
        {
          "output_type": "stream",
          "text": [
            "/usr/local/lib/python3.7/dist-packages/seaborn/distributions.py:2557: FutureWarning: `distplot` is a deprecated function and will be removed in a future version. Please adapt your code to use either `displot` (a figure-level function with similar flexibility) or `histplot` (an axes-level function for histograms).\n",
            "  warnings.warn(msg, FutureWarning)\n"
          ],
          "name": "stderr"
        },
        {
          "output_type": "execute_result",
          "data": {
            "text/plain": [
              "<matplotlib.axes._subplots.AxesSubplot at 0x7f64fd863490>"
            ]
          },
          "metadata": {
            "tags": []
          },
          "execution_count": 12
        },
        {
          "output_type": "display_data",
          "data": {
            "image/png": "[encoded data removed]",
            "text/plain": [
              "<Figure size 432x288 with 1 Axes>"
            ]
          },
          "metadata": {
            "tags": [],
            "needs_background": "light"
          }
        }
      ]
    },
    {
      "cell_type": "code",
      "metadata": {
        "colab": {
          "base_uri": "https://localhost:8080/",
          "height": 364
        },
        "id": "kAsKS5q-Ipzg",
        "outputId": "0a0b76dd-fac2-4cea-f646-c88bf9c8cf75"
      },
      "source": [
        "sns.distplot(df.Annual_HH_Income)"
      ],
      "execution_count": null,
      "outputs": [
        {
          "output_type": "stream",
          "text": [
            "/usr/local/lib/python3.7/dist-packages/seaborn/distributions.py:2557: FutureWarning: `distplot` is a deprecated function and will be removed in a future version. Please adapt your code to use either `displot` (a figure-level function with similar flexibility) or `histplot` (an axes-level function for histograms).\n",
            "  warnings.warn(msg, FutureWarning)\n"
          ],
          "name": "stderr"
        },
        {
          "output_type": "execute_result",
          "data": {
            "text/plain": [
              "<matplotlib.axes._subplots.AxesSubplot at 0x7f64f9fdf890>"
            ]
          },
          "metadata": {
            "tags": []
          },
          "execution_count": 14
        },
        {
          "output_type": "display_data",
          "data": {
            "image/png": "[encoded data removed]",
            "text/plain": [
              "<Figure size 432x288 with 1 Axes>"
            ]
          },
          "metadata": {
            "tags": [],
            "needs_background": "light"
          }
        }
      ]
    },
    {
      "cell_type": "markdown",
      "metadata": {
        "id": "C_uAxgXkIpzg"
      },
      "source": [
        "### Feature of Normal Distribution\n",
        "1. The Data Is Centered About the Mean-Mode-Median\n",
        "2. The mean-mode-median is in the center.\n",
        "3. The frequency curve is bell shaped.\n",
        "4. The bell shape has perfect bilateral symmetry - the left balances exactly with the right.\n",
        "5. The score at -2 is balanced by a score at +2 and the frequencies from 0 to +2 and from 0 to -2 are equal.\n",
        "6. The area under the curve from 0 to +2 is exactly the same as the area under the curve from 0 to -2.\n",
        "7. Fifty percent of the scores are above the mean and 50% are below the mean.\n",
        "8. The probability a score is above the mean is 50% and the probability a score is below the mean is 50%.\n",
        "9. Most of the scores are in the middle, about the mean, and few are in the tails, at the extremes.\n",
        "10. The area under the curve is equal to 1.\n",
        "11. The probability of an event that does not happen is 0.\n",
        "12. The sum of the probabilities of all events is 1.\n",
        "13. The standard deviation tells one how the scores are spread out and therefore the fatness or skinniness of the bell.\n",
        "14. Because \"the shape\" of one normal distribution is \"the shape\" of all others, the spread of the area of one normal distribution \"is the same\" as all others and the standard deviation is the scale.\n",
        "15. The frequencies for the set of scores with a normal distribution are stated by a function which includes as controlling features both the mean, µ, and the standard deviation, , of the set of scores.That function is:\n",
        "\n",
        "   f(x,$\\mu,\\sigma$)= $\\frac{1}{\\sigma \\sqrt{2 \\pi}}$ $e\\frac{-(x-\\mu)^2}{2\\sigma^2}$"
      ]
    },
    {
      "cell_type": "markdown",
      "metadata": {
        "id": "2AbAKHg-Ipzh"
      },
      "source": [
        "## Positively skewed and negatively skewed Normal distribution\n",
        "\n",
        "Skewness refers to a distortion or asymmetry that deviates from the symmetrical bell curve, or normal distribution, in a set of data. If the curve is shifted to the left or to the right, it is said to be skewed. Skewness can be quantified as a representation of the extent to which a given distribution varies from a normal distribution. Skewness is a measure of asymmetry or distortion of symmetric distribution.\n",
        "\n",
        "### Positive Skewness\n",
        "\n",
        "If the given distribution is shifted to the left and with its tail on the right side, it is a positively skewed distribution. It is also called the right-skewed distribution. A tail is referred to as the tapering of the curve in a different way from the data points on the other side.As the name suggests, a positively skewed distribution assumes a skewness value of more than zero. Since the skewness of the given distribution is on the right, the mean value is greater than the median and moves towards the right, and the mode occurs at the highest frequency of the distribution.\n",
        "\n",
        "### Negative Skewness\n",
        "\n",
        "If the given distribution is shifted to the right and with its tail on the left side, it is a negatively skewed distribution. It is also called a left-skewed distribution. The skewness value of any distribution showing a negative skew is always less than zero. The skewness of the given distribution is on the left; hence, the mean value is less than the median and moves towards the left, and the mode occurs at the highest frequency of the distribution."
      ]
    },
    {
      "cell_type": "markdown",
      "metadata": {
        "id": "HWYJ8otRIpzh"
      },
      "source": [
        "### $Formula$\n",
        "\n",
        "The formula for Pearson mode skewness:\n",
        "\n",
        "skewness= $\\frac {\\mu-M_o}{\\sigma}$\n",
        "\n",
        "Where:\n",
        "   \n",
        "X = Mean value\n",
        "\n",
        "$M_o$ = Mode value\n",
        "\n",
        "$\\sigma$ = Standard deviation of the sample data\n",
        "The formula for Person median skewness:\n",
        "\n",
        "skewness= $\\frac {\\mu-M_d}{\\sigma}$\n",
        "\n",
        "Where: \n",
        "$M_d$ = Median value"
      ]
    },
    {
      "cell_type": "code",
      "metadata": {
        "colab": {
          "base_uri": "https://localhost:8080/"
        },
        "id": "HX6OJdFXIpzh",
        "outputId": "aa0f7f7b-00ab-4a70-bfc9-0f050e284c0c"
      },
      "source": [
        "#skewness for tht given data\n",
        "df.skew()"
      ],
      "execution_count": null,
      "outputs": [
        {
          "output_type": "execute_result",
          "data": {
            "text/plain": [
              "Mthly_HH_Income          0.924615\n",
              "Mthly_HH_Expense         1.199461\n",
              "No_of_Fly_Members        0.113674\n",
              "Emi_or_Rent_Amt          3.403680\n",
              "Annual_HH_Income         1.192949\n",
              "No_of_Earning_Members    1.593301\n",
              "dtype: float64"
            ]
          },
          "metadata": {
            "tags": []
          },
          "execution_count": 15
        }
      ]
    },
    {
      "cell_type": "markdown",
      "metadata": {
        "id": "q_tXyAN9Ipzi"
      },
      "source": [
        "## Effect on Mean, Median and Mode due to Skewness\n",
        "\n",
        " In a perfectly symmetrical distribution, the mean and the median are the same.\n",
        " \n",
        " When the skewness of the distribution is on the right; it causes the mean to be greater than the median and eventually move to the right. Also, the mode occurs at the highest frequency of the distribution which is on the left side of the median. Therefore, mode < median < mean.\n",
        " \n",
        " If the distribution of data is skewed to the left, the mean is less than the median, which is often less than the mode.The value of skewness for a negatively skewed distribution is less than zero. mean < median < mode. "
      ]
    },
    {
      "cell_type": "markdown",
      "metadata": {
        "id": "X79z6v5jIpzi"
      },
      "source": [
        "## QQ-plot (Quantile-Quantile Plot)\n",
        "\n",
        "A Q–Q plot is a plot of the quantiles of two distributions against each other, or a plot based on estimates of the quantiles. The pattern of points in the plot is used to compare the two distributions.The main step in constructing a Q–Q plot is calculating or estimating the quantiles to be plotted. If one or both of the axes in a Q–Q plot is based on a theoretical distribution with a continuous cumulative distribution function (CDF), all quantiles are uniquely defined and can be obtained by inverting the CDF. Q-Q Plot is used to check the normality of the data ,to detect the outlier aswell."
      ]
    },
    {
      "cell_type": "code",
      "metadata": {
        "id": "8ctBDfxaIpzi",
        "outputId": "215dcb98-97f9-44a8-d2ad-83b05d360b8a"
      },
      "source": [
        "#QQ-plot for the given data\n",
        "import statsmodels.graphics.gofplots as sm\n",
        "sm.qqplot(df.Annual_HH_Income,line='s')"
      ],
      "execution_count": null,
      "outputs": [
        {
          "output_type": "execute_result",
          "data": {
            "image/png": "[encoded data removed]",
            "text/plain": [
              "<Figure size 432x288 with 1 Axes>"
            ]
          },
          "metadata": {
            "tags": []
          },
          "execution_count": 14
        },
        {
          "output_type": "display_data",
          "data": {
            "image/png": "[encoded data removed]",
            "text/plain": [
              "<Figure size 432x288 with 1 Axes>"
            ]
          },
          "metadata": {
            "tags": [],
            "needs_background": "light"
          }
        }
      ]
    },
    {
      "cell_type": "markdown",
      "metadata": {
        "id": "nwtafp5gIpzj"
      },
      "source": [
        "## Box Cox Transformation\n",
        "\n",
        "A Box Cox Transformation is a simple calculation that may help your data set follow a normal distribution.When the assumption of data normally distributed is violated or the relationship between the dependent and independent variables in case of linear model are not linear, in such situations some transformations methods that may help the data set follow a normal distribution. Box Cox is one such transformation method.\n",
        "The basic assumption of Box-Cox is data must be positive (no negative values) and also data should be continuous.This will transform the predictor variable or the response variable and then fit a linear model to the data to study the effect that the predictor variable has on the transformed responses.In addition, the benefits of Box-Cox transformation which includes less skewness, maintains linear relationship between response variable Y and the predictor variable X’s, almost equal spread etc.,"
      ]
    },
    {
      "cell_type": "markdown",
      "metadata": {
        "id": "liB-pEcVIpzj"
      },
      "source": [
        "### $Formula$\n",
        "y($\\lambda$)= $\\begin{cases}\n",
        "                        \\frac{y(\\lambda-1)}{\\lambda} if \\lambda \\neq 0;\\\\\n",
        "                        log y if \\lambda \\neq 0.\\\\\n",
        "                        \\end{cases}$\n",
        "                            \n"
      ]
    },
    {
      "cell_type": "code",
      "metadata": {
        "id": "wzx0H9iRIpzk",
        "outputId": "bd93eab3-03f0-45ba-9198-a66d4c34d454"
      },
      "source": [
        "#applying box cox transformation on the data set\n",
        "from scipy import stats\n",
        "import matplotlib.pyplot  as plt\n",
        "fig, ax = plt.subplots(1, 2)\n",
        "\n",
        "fitted_data,fitted_lambda = stats.boxcox(np.array(df.Mthly_HH_Income))\n",
        "sns.distplot(df.Mthly_HH_Income,ax=ax[0])\n",
        "\n",
        "sns.distplot(fitted_data,ax=ax[1])\n"
      ],
      "execution_count": null,
      "outputs": [
        {
          "output_type": "execute_result",
          "data": {
            "text/plain": [
              "<matplotlib.axes._subplots.AxesSubplot at 0x1eed371e070>"
            ]
          },
          "metadata": {
            "tags": []
          },
          "execution_count": 17
        },
        {
          "output_type": "display_data",
          "data": {
            "image/png": "[encoded data removed]",
            "text/plain": [
              "<Figure size 432x288 with 2 Axes>"
            ]
          },
          "metadata": {
            "tags": [],
            "needs_background": "light"
          }
        }
      ]
    },
    {
      "cell_type": "code",
      "metadata": {
        "id": "VcRREO4QIpzk"
      },
      "source": [
        ""
      ],
      "execution_count": null,
      "outputs": []
    }
  ]
}