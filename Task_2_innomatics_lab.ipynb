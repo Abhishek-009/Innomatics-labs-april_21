{
  "nbformat": 4,
  "nbformat_minor": 0,
  "metadata": {
    "kernelspec": {
      "display_name": "Python 3",
      "language": "python",
      "name": "python3"
    },
    "language_info": {
      "codemirror_mode": {
        "name": "ipython",
        "version": 3
      },
      "file_extension": ".py",
      "mimetype": "text/x-python",
      "name": "python",
      "nbconvert_exporter": "python",
      "pygments_lexer": "ipython3",
      "version": "3.8.5"
    },
    "toc": {
      "base_numbering": 1,
      "nav_menu": {},
      "number_sections": true,
      "sideBar": true,
      "skip_h1_title": false,
      "title_cell": "Table of Contents",
      "title_sidebar": "Contents",
      "toc_cell": false,
      "toc_position": {},
      "toc_section_display": true,
      "toc_window_display": false
    },
    "colab": {
      "name": "Task_2_innomatics_lab.ipynb",
      "provenance": [],
      "collapsed_sections": [],
      "toc_visible": true,
      "include_colab_link": true
    }
  },
  "cells": [
    {
      "cell_type": "markdown",
      "metadata": {
        "id": "view-in-github",
        "colab_type": "text"
      },
      "source": [
        "<a href=\"https://colab.research.google.com/github/Abhishek-009/Innomatics-labs-april_21/blob/main/Task_2_innomatics_lab.ipynb\" target=\"_parent\"><img src=\"https://colab.research.google.com/assets/colab-badge.svg\" alt=\"Open In Colab\"/></a>"
      ]
    },
    {
      "cell_type": "code",
      "metadata": {
        "id": "sJOx6IdAej6G"
      },
      "source": [
        "#list comprehensions"
      ],
      "execution_count": null,
      "outputs": []
    },
    {
      "cell_type": "code",
      "metadata": {
        "id": "FbxT-_s3ej6M"
      },
      "source": [
        "x = int(input())\n",
        "y = int(input())\n",
        "z = int(input())\n",
        "N = int(input())\n",
        "arr = [[X, Y, Z] for X in range(x+1) for Y in range(y+1) for Z in range(z+1) if X + Y + Z != N]\n",
        "print(arr)"
      ],
      "execution_count": null,
      "outputs": []
    },
    {
      "cell_type": "code",
      "metadata": {
        "id": "d63FbV0Yej6N"
      },
      "source": [
        "#nested lists"
      ],
      "execution_count": null,
      "outputs": []
    },
    {
      "cell_type": "code",
      "metadata": {
        "id": "IUjAtH1hej6O"
      },
      "source": [
        "score = []\n",
        "for __ in range(0,int(input())):\n",
        "    score.append([input(), float(input())])\n",
        "second_highest = sorted(list(set([marks for name, marks in score])))[1]\n",
        "print('\\n'.join([a for a,b in sorted(score) if b == second_highest]))"
      ],
      "execution_count": null,
      "outputs": []
    },
    {
      "cell_type": "code",
      "metadata": {
        "id": "A8wiXmZCej6P"
      },
      "source": [
        "#finding the Runner up score"
      ],
      "execution_count": null,
      "outputs": []
    },
    {
      "cell_type": "code",
      "metadata": {
        "id": "oW-ScM29ej6Q"
      },
      "source": [
        "n= int(input())\n",
        "arr = input().split()\n",
        "arr1 = map(int, arr)\n",
        "arr1=set(list(arr1))\n",
        "arr1=sorted(arr1)\n",
        "print(arr1[-2])"
      ],
      "execution_count": null,
      "outputs": []
    },
    {
      "cell_type": "code",
      "metadata": {
        "id": "_Qw3tj2Sej6Q"
      },
      "source": [
        "#finding the percentage"
      ],
      "execution_count": null,
      "outputs": []
    },
    {
      "cell_type": "code",
      "metadata": {
        "id": "MVW5SFLJej6Q"
      },
      "source": [
        "N = int(input())\n",
        "dictionary = {} \n",
        "for i in range(0, N): \n",
        "    arr = input().split()\n",
        "    marks = list(map(float, arr[1:])) \n",
        "    dictionary[arr[0]] = sum(marks)/float(len(marks))\n",
        "print(\"%.2f\" % dictionary[input()]) "
      ],
      "execution_count": null,
      "outputs": []
    },
    {
      "cell_type": "code",
      "metadata": {
        "id": "AQC6tfv3ej6R"
      },
      "source": [
        "#Lists"
      ],
      "execution_count": null,
      "outputs": []
    },
    {
      "cell_type": "code",
      "metadata": {
        "id": "cPHGSi-vej6S"
      },
      "source": [
        "N = int(input())\n",
        "arr = []\n",
        "\n",
        "while N != 0:\n",
        "    a = input().split()\n",
        "\n",
        "    if len(a) == 3:\n",
        "        b = int(a[1])\n",
        "        c = int(a[2])\n",
        "    elif len(a) == 2:\n",
        "        b = int(a[1])\n",
        "\n",
        "    if a[0] == \"insert\":\n",
        "        arr.insert(b,c)\n",
        "    elif a[0] == \"print\":\n",
        "        print(arr)\n",
        "    elif a[0] == \"remove\":\n",
        "        arr.remove(b)\n",
        "    elif a[0] == \"append\":\n",
        "        arr.append(b)\n",
        "    elif a[0] == \"sort\":\n",
        "        arr.sort()\n",
        "    elif a[0] == \"pop\":\n",
        "        arr.pop()\n",
        "    elif a[0] == \"reverse\":\n",
        "        arr.reverse()\n",
        "    N = N-1"
      ],
      "execution_count": null,
      "outputs": []
    },
    {
      "cell_type": "code",
      "metadata": {
        "id": "yh-0XV4Oej6T"
      },
      "source": [
        "#tuples"
      ],
      "execution_count": null,
      "outputs": []
    },
    {
      "cell_type": "code",
      "metadata": {
        "id": "ieAqEFTUej6U"
      },
      "source": [
        "a = int(input())\n",
        "print(hash(tuple(map(int, input().split()))))"
      ],
      "execution_count": null,
      "outputs": []
    },
    {
      "cell_type": "code",
      "metadata": {
        "id": "IZ6qj3S7ej6V"
      },
      "source": [
        "#introduction to sets"
      ],
      "execution_count": null,
      "outputs": []
    },
    {
      "cell_type": "code",
      "metadata": {
        "id": "fcOu4t65ej6W"
      },
      "source": [
        "def average(array):\n",
        " a = set(arr)\n",
        " return float(sum(a)) / len(a)\n",
        "\n",
        "if __name__ == '__main__':\n",
        "    n = int(input())\n",
        "    arr = list(map(int, input().split()))\n",
        "    result = average(arr)\n",
        "    print(result)"
      ],
      "execution_count": null,
      "outputs": []
    },
    {
      "cell_type": "code",
      "metadata": {
        "id": "3Gxjg6L2ej6X"
      },
      "source": [
        "#no idea!"
      ],
      "execution_count": null,
      "outputs": []
    },
    {
      "cell_type": "code",
      "metadata": {
        "id": "xYoPfwW-ej6X"
      },
      "source": [
        "p = input().split()\n",
        "q = input().split()\n",
        "a = set(input().split())\n",
        "b = set(input().split())\n",
        "\n",
        "set_s = 0\n",
        "\n",
        "for i in q:\n",
        "    if i in a:\n",
        "        set_s = set_s + 1\n",
        "    if i in b:\n",
        "        set_s = set_s - 1\n",
        "\n",
        "print(set_s)"
      ],
      "execution_count": null,
      "outputs": []
    },
    {
      "cell_type": "code",
      "metadata": {
        "id": "07Dau7BXej6Y"
      },
      "source": [
        "#symmetric difference"
      ],
      "execution_count": null,
      "outputs": []
    },
    {
      "cell_type": "code",
      "metadata": {
        "id": "xfNzTXGyej6Y"
      },
      "source": [
        "a = int(input())\n",
        "\n",
        "b = set(map(int, input().split()))\n",
        "\n",
        "c = int(input())\n",
        "\n",
        "d = set(map(int, input().split()))\n",
        "\n",
        "p = b.difference(d)\n",
        "q = d.difference(b)\n",
        "\n",
        "e = p.union(q)\n",
        "sol = list(e)\n",
        "sol.sort()\n",
        "for i in range(len(sol)):\n",
        "    print(sol[i])"
      ],
      "execution_count": null,
      "outputs": []
    },
    {
      "cell_type": "code",
      "metadata": {
        "id": "xen3ILd0ej6Z"
      },
      "source": [
        "# set.add()"
      ],
      "execution_count": null,
      "outputs": []
    },
    {
      "cell_type": "code",
      "metadata": {
        "id": "cw6Z5RNxej6Z"
      },
      "source": [
        "n = int(input())\n",
        "\n",
        "names = set([])\n",
        "\n",
        "for i in range(n):\n",
        "    names.add(input())\n",
        "\n",
        "print(len(names))"
      ],
      "execution_count": null,
      "outputs": []
    },
    {
      "cell_type": "code",
      "metadata": {
        "id": "OdOqyuYWej6Z"
      },
      "source": [
        "#Set .discard(), .remove() & .pop()"
      ],
      "execution_count": null,
      "outputs": []
    },
    {
      "cell_type": "code",
      "metadata": {
        "id": "yloAzMDaej6Z"
      },
      "source": [
        "n = int(input())\n",
        "s = set(map(int, input().split())) \n",
        "\n",
        "for i in range(int(input())): \n",
        "    set1 = input().split()\n",
        "    if set1[0] == 'pop':\n",
        "        s.pop()\n",
        "    elif set1[0] == 'remove':\n",
        "        s.remove(int(set1[1]))\n",
        "    elif set1[0] == 'discard':\n",
        "        s.discard(int(set1[1]))\n",
        "\n",
        "print(sum(s))"
      ],
      "execution_count": null,
      "outputs": []
    },
    {
      "cell_type": "code",
      "metadata": {
        "id": "XeMdhZZ9ej6a"
      },
      "source": [
        "#Set .union() Operation"
      ],
      "execution_count": null,
      "outputs": []
    },
    {
      "cell_type": "code",
      "metadata": {
        "id": "e7WqGAv8ej6a"
      },
      "source": [
        "\n",
        "a = int(input())\n",
        "set_a = set(map(int, input().split()))\n",
        "\n",
        "b = int(input())\n",
        "set_b = set(map(int, input().split()))\n",
        "\n",
        "new_set = set_a.union(set_b)\n",
        "print(len(new_set))"
      ],
      "execution_count": null,
      "outputs": []
    },
    {
      "cell_type": "code",
      "metadata": {
        "id": "vJ3plZlsej6b"
      },
      "source": [
        "#Set .intersection() Operation"
      ],
      "execution_count": null,
      "outputs": []
    },
    {
      "cell_type": "code",
      "metadata": {
        "id": "6QufOYytej6b"
      },
      "source": [
        "a = int(input())\n",
        "set_a = set(map(int, input().split()))\n",
        "\n",
        "b = int(input())\n",
        "set_b = set(map(int, input().split()))\n",
        "\n",
        "new_set = set_a.intersection(set_b)\n",
        "print(len(new_set))"
      ],
      "execution_count": null,
      "outputs": []
    },
    {
      "cell_type": "code",
      "metadata": {
        "id": "lpZlxX7oej6c"
      },
      "source": [
        "#Set .difference() Operation"
      ],
      "execution_count": null,
      "outputs": []
    },
    {
      "cell_type": "code",
      "metadata": {
        "id": "HTmPD9w2ej6c"
      },
      "source": [
        "a = int(input())\n",
        "set_a = set(map(int, input().split()))\n",
        "\n",
        "b = int(input())\n",
        "set_b = set(map(int, input().split()))\n",
        "\n",
        "new_set = set_a.difference(set_b)\n",
        "print(len(new_set))"
      ],
      "execution_count": null,
      "outputs": []
    },
    {
      "cell_type": "code",
      "metadata": {
        "id": "UTNa1o0Mej6d"
      },
      "source": [
        "#Set .symmetric_difference() Operation"
      ],
      "execution_count": null,
      "outputs": []
    },
    {
      "cell_type": "code",
      "metadata": {
        "id": "agBd7EA7ej6d"
      },
      "source": [
        "A= int(input())\n",
        "set_a = set(map(int, input().split()))\n",
        "\n",
        "B = int(input())\n",
        "set_b = set(map(int, input().split()))\n",
        "\n",
        "print(len(set_a.symmetric_difference(set_b)))"
      ],
      "execution_count": null,
      "outputs": []
    },
    {
      "cell_type": "code",
      "metadata": {
        "id": "43-Ix-YSej6e"
      },
      "source": [
        "#Set Mutations"
      ],
      "execution_count": null,
      "outputs": []
    },
    {
      "cell_type": "code",
      "metadata": {
        "id": "JZgj4Rr8ej6e"
      },
      "source": [
        "a = int(input())\n",
        "set_a = set(map(int, input().split()))\n",
        "n = int(input())\n",
        "\n",
        "for n in range(n):\n",
        "    operation = input().split()\n",
        "    new_set = set(map(int, input().split()))\n",
        "    eval('set_a.{}({})'.format(operation[0], new_set))\n",
        "\n",
        "print(sum(set_a))"
      ],
      "execution_count": null,
      "outputs": []
    },
    {
      "cell_type": "code",
      "metadata": {
        "id": "6Er8zJsnej6h"
      },
      "source": [
        "#The Captain's Room"
      ],
      "execution_count": null,
      "outputs": []
    },
    {
      "cell_type": "code",
      "metadata": {
        "id": "PrOzTyqKej6h"
      },
      "source": [
        "n= input()\n",
        "room_nums = input().split()\n",
        "room_set = set(room_nums)\n",
        "\n",
        "for i in list(room_set):\n",
        "    room_nums.remove(i)\n",
        "\n",
        "captains_room_num = room_set.difference(set(room_nums)).pop()\n",
        "print(captains_room_num)"
      ],
      "execution_count": null,
      "outputs": []
    },
    {
      "cell_type": "code",
      "metadata": {
        "id": "0LXZpR4mej6i"
      },
      "source": [
        "#Check Subset"
      ],
      "execution_count": null,
      "outputs": []
    },
    {
      "cell_type": "code",
      "metadata": {
        "id": "vEx42asvej6i"
      },
      "source": [
        "for i in range(int(input())):\n",
        "    a = int(input())\n",
        "    set_a = set(map(int, input().split()))\n",
        "\n",
        "    b = int(input())\n",
        "    set_b = set(map(int, input().split()))\n",
        "\n",
        "    if len(set_a - set_b) == 0:\n",
        "        print(\"True\")\n",
        "    else:\n",
        "        print(\"False\")"
      ],
      "execution_count": null,
      "outputs": []
    },
    {
      "cell_type": "code",
      "metadata": {
        "id": "4sWyUwkfej6j"
      },
      "source": [
        "#Check Strict Superset"
      ],
      "execution_count": null,
      "outputs": []
    },
    {
      "cell_type": "code",
      "metadata": {
        "id": "H6xQmgZBej6j"
      },
      "source": [
        "a = set(input().split())\n",
        "count = 0\n",
        "value = 0\n",
        "\n",
        "for i in range(int(input())):\n",
        "    if a.issuperset(set(input().split())):\n",
        "        count = count+1\n",
        "    else:\n",
        "        value = value+1\n",
        "if value != 0:\n",
        "    print('False')\n",
        "else:\n",
        "    print('True')"
      ],
      "execution_count": null,
      "outputs": []
    }
  ]
}