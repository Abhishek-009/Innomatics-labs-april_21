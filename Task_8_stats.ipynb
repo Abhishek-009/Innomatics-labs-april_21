{
  "nbformat": 4,
  "nbformat_minor": 0,
  "metadata": {
    "kernelspec": {
      "display_name": "Python 3",
      "language": "python",
      "name": "python3"
    },
    "language_info": {
      "codemirror_mode": {
        "name": "ipython",
        "version": 3
      },
      "file_extension": ".py",
      "mimetype": "text/x-python",
      "name": "python",
      "nbconvert_exporter": "python",
      "pygments_lexer": "ipython3",
      "version": "3.8.5"
    },
    "toc": {
      "base_numbering": 1,
      "nav_menu": {},
      "number_sections": true,
      "sideBar": true,
      "skip_h1_title": false,
      "title_cell": "Table of Contents",
      "title_sidebar": "Contents",
      "toc_cell": false,
      "toc_position": {},
      "toc_section_display": true,
      "toc_window_display": false
    },
    "colab": {
      "name": "Task_8_stats.ipynb",
      "provenance": [],
      "toc_visible": true,
      "include_colab_link": true
    }
  },
  "cells": [
    {
      "cell_type": "markdown",
      "metadata": {
        "id": "view-in-github",
        "colab_type": "text"
      },
      "source": [
        "<a href=\"https://colab.research.google.com/github/Abhishek-009/Innomatics-labs-april_21/blob/main/Task_8_stats.ipynb\" target=\"_parent\"><img src=\"https://colab.research.google.com/assets/colab-badge.svg\" alt=\"Open In Colab\"/></a>"
      ]
    },
    {
      "cell_type": "code",
      "metadata": {
        "id": "qzMdfPJPTgML"
      },
      "source": [
        "#bionomial distribution 1"
      ],
      "execution_count": null,
      "outputs": []
    },
    {
      "cell_type": "code",
      "metadata": {
        "colab": {
          "base_uri": "https://localhost:8080/"
        },
        "id": "252dyoo1TgMR",
        "outputId": "ed57f322-36bc-41c2-9050-0ccadc291042"
      },
      "source": [
        "import math\n",
        "\n",
        "\n",
        "p = 1.09/(1+1.09)\n",
        "sol = 0\n",
        "for i in range(3):\n",
        "    sol = sol+math.factorial(6) / math.factorial(i) / math.factorial(6-i) * p**i * (1-p)**(6-i)\n",
        "print((1-sol, 3))"
      ],
      "execution_count": 1,
      "outputs": [
        {
          "output_type": "stream",
          "text": [
            "(0.6957033161509109, 3)\n"
          ],
          "name": "stdout"
        }
      ]
    },
    {
      "cell_type": "code",
      "metadata": {
        "id": "ghtUsX_5TgMS"
      },
      "source": [
        "#bionomial distribution 2"
      ],
      "execution_count": null,
      "outputs": []
    },
    {
      "cell_type": "code",
      "metadata": {
        "colab": {
          "base_uri": "https://localhost:8080/"
        },
        "id": "85InQf6RTgMS",
        "outputId": "eb25b5cf-d8f7-4d09-8d14-66b72a0be1cd"
      },
      "source": [
        "import math\n",
        "\n",
        "P = 0.12\n",
        "sol = 0\n",
        "\n",
        "for i in range(0, 3):\n",
        "    sol = sol + math.factorial(10)/math.factorial(i)/math.factorial(10-i) * P**i * (1-P)**(10-i)\n",
        "    if i == 1:\n",
        "        sol_1 = 1 - sol\n",
        "\n",
        "print((sol, 3))\n",
        "print((sol_1, 3))"
      ],
      "execution_count": 2,
      "outputs": [
        {
          "output_type": "stream",
          "text": [
            "(0.8913182062780246, 3)\n",
            "(0.34172496579595857, 3)\n"
          ],
          "name": "stdout"
        }
      ]
    },
    {
      "cell_type": "code",
      "metadata": {
        "id": "WscjDcsqTgMT"
      },
      "source": [
        "#normal distribution 1"
      ],
      "execution_count": null,
      "outputs": []
    },
    {
      "cell_type": "code",
      "metadata": {
        "colab": {
          "base_uri": "https://localhost:8080/"
        },
        "id": "r6SmSUL7TgMU",
        "outputId": "d4bc797b-450b-49c2-af13-2589b751b0e6"
      },
      "source": [
        "import math\n",
        "\n",
        "mu = 20\n",
        "SD = 2\n",
        "\n",
        "def normal_cdf(x, mu, SD):\n",
        "    return 1/2*(1+math.erf((x-mu)/(SD*math.sqrt(2))))\n",
        "\n",
        "result_1 = normal_cdf(19.5, mu, SD)\n",
        "result_2 = normal_cdf(22, mu, SD) - normal_cdf(20, mu, SD)\n",
        "\n",
        "print((result_1, 3))\n",
        "print((result_2, 3))\n"
      ],
      "execution_count": 3,
      "outputs": [
        {
          "output_type": "stream",
          "text": [
            "(0.4012936743170763, 3)\n",
            "(0.3413447460685429, 3)\n"
          ],
          "name": "stdout"
        }
      ]
    },
    {
      "cell_type": "code",
      "metadata": {
        "id": "HV1-G6IYTgMV"
      },
      "source": [
        "#normal distribution 2"
      ],
      "execution_count": null,
      "outputs": []
    },
    {
      "cell_type": "code",
      "metadata": {
        "id": "BcROWtFTTgMW"
      },
      "source": [
        "import math\n",
        "\n",
        "mu, SD = list(map(float, input().rstrip().split()))\n",
        "x_1 = float(input())\n",
        "x_2 = float(input())\n",
        "\n",
        "def normal_distribution(x, mu, SD):\n",
        "    \n",
        "    return 1/2*(1+math.erf((x-mu)/(SD*math.sqrt(2))))\n",
        "\n",
        "# for calculating grade >80\n",
        "print(((1-normal_distribution(x_1, mu,SD))*100, 2))\n",
        "\n",
        "# for calculating grade >= 60\n",
        "print(((1-normal_distribution(x_2, mu,SD))*100, 2))\n",
        "\n",
        "# for calculating grade <60\n",
        "print(((normal_distribution(x_2, mu,SD))*100, 2))"
      ],
      "execution_count": null,
      "outputs": []
    },
    {
      "cell_type": "code",
      "metadata": {
        "id": "C2h5QezVTgMX"
      },
      "source": [
        "#CLT_1"
      ],
      "execution_count": null,
      "outputs": []
    },
    {
      "cell_type": "code",
      "metadata": {
        "id": "gIWIQhXdTgMX"
      },
      "source": [
        "import math\n",
        "\n",
        "a = int(input())\n",
        "b = int(input())\n",
        "c = int(input())\n",
        "input = math.sqrt(b) * int(input())\n",
        "\n",
        "print((0.5 * (1 + math.erf((a - (b * c)) / (input * math.sqrt(2)))), 4))"
      ],
      "execution_count": null,
      "outputs": []
    },
    {
      "cell_type": "code",
      "metadata": {
        "id": "OH3xo4b5TgMY"
      },
      "source": [
        "#CLT_2"
      ],
      "execution_count": null,
      "outputs": []
    },
    {
      "cell_type": "code",
      "metadata": {
        "id": "Ha0Mjxs9TgMY"
      },
      "source": [
        "import math\n",
        "\n",
        "tickets = 250\n",
        "students = 100\n",
        "mean = 2.4\n",
        "SD = 2\n",
        "\n",
        "mu = students * mean\n",
        "S = math.sqrt(100)*SD\n",
        "\n",
        "def normal_distribution(x, mu, sd):\n",
        "\n",
        "    return 1/2*(1+math.erf((x-mu)/(sd*math.sqrt(2))))\n",
        "\n",
        "print((normal_distribution(x=tickets, mu=MU, sd=S), 4))"
      ],
      "execution_count": null,
      "outputs": []
    },
    {
      "cell_type": "code",
      "metadata": {
        "id": "TGxFYJJ3TgMZ"
      },
      "source": [
        "#CLT_3"
      ],
      "execution_count": null,
      "outputs": []
    },
    {
      "cell_type": "code",
      "metadata": {
        "id": "2xEPeOnqTgMZ"
      },
      "source": [
        "import math\n",
        "\n",
        "samples = 100\n",
        "mu = 500\n",
        "SD = 80\n",
        "Z_score = 1.96\n",
        "range_ = 0.95\n",
        "\n",
        "print((-1.96 * (SD/math.sqrt(samples)) + mu, 2))\n",
        "print((1.96 * (SD/math.sqrt(samples)) + mu, 2))"
      ],
      "execution_count": null,
      "outputs": []
    },
    {
      "cell_type": "code",
      "metadata": {
        "id": "xO2bO52XTgMa"
      },
      "source": [
        "#pearson_correraltion_coefficient"
      ],
      "execution_count": null,
      "outputs": []
    },
    {
      "cell_type": "code",
      "metadata": {
        "id": "dCwJxzzgTgMa"
      },
      "source": [
        "import statistics as st\n",
        "\n",
        "n=int(input())\n",
        "x=tuple(map(float,input().split()))\n",
        "y=tuple(map(float,input().split()))\n",
        "\n",
        "prc =sum([a*b for a,b in zip([i-st.mean(x) for i in x],[i-st.mean(y) for i in y])])/(n*st.pstdev(x)*st.pstdev(y))   \n",
        "\n",
        "print((prc,3))"
      ],
      "execution_count": null,
      "outputs": []
    },
    {
      "cell_type": "code",
      "metadata": {
        "id": "S5Mw28fZTgMa"
      },
      "source": [
        "#Least Square Regression Line"
      ],
      "execution_count": null,
      "outputs": []
    },
    {
      "cell_type": "code",
      "metadata": {
        "id": "s0pGyeQKTgMb"
      },
      "source": [
        "def mean(x_1):\n",
        "    \n",
        "    return sum(x_1)/len(x_1)\n",
        "\n",
        "def lsr(x_1, Y):\n",
        "    \n",
        "    b = sum([(x_1[i] - mean(x_1)) * (Y[i] - mean(Y)) for i in range(len(x_1))])/sum([(j - mean(x_1))**2 for j in x_1])\n",
        "    a = mean(Y) - (b*mean(x_1))\n",
        "    return a+(b*80)\n",
        "\n",
        "p = []\n",
        "q = []\n",
        "\n",
        "for i in range(5):\n",
        "    a,b = list(map(int, input().split()))\n",
        "    p.append(a)\n",
        "    q.append(b)\n",
        "\n",
        "print((lsr(p,q), 3))"
      ],
      "execution_count": null,
      "outputs": []
    },
    {
      "cell_type": "code",
      "metadata": {
        "id": "gXcVOggjTgMc"
      },
      "source": [
        "#Multiple Linear Regression"
      ],
      "execution_count": null,
      "outputs": []
    },
    {
      "cell_type": "code",
      "metadata": {
        "id": "8zQcDaGTTgMc"
      },
      "source": [
        "from sklearn.linear_model import LinearRegression\n",
        "\n",
        "p,q = list(map(int, input().strip().split()))\n",
        "X = [0]*q\n",
        "Y = [0]*q\n",
        "\n",
        "for i in range(q):\n",
        "    inp = list(map(float, input().strip().split()))\n",
        "    X[i] = inp[:-1]\n",
        "    Y[i] = inp[-1]\n",
        "\n",
        "model_lr = LinearRegression()\n",
        "model_lr.fit(X, Y)\n",
        "a = model_lr.intercept_\n",
        "b = model_lr.coef_\n",
        "\n",
        "Q = int(input())\n",
        "\n",
        "for i in range(Q):\n",
        "    f = list(map(float, input().strip().split()))\n",
        "    Y = a + sum([b[j] * f[j] for j in range(p)])\n",
        "    print((Y, 2))"
      ],
      "execution_count": null,
      "outputs": []
    },
    {
      "cell_type": "code",
      "metadata": {
        "id": "_H_foI4JTgMd"
      },
      "source": [
        ""
      ],
      "execution_count": null,
      "outputs": []
    }
  ]
}