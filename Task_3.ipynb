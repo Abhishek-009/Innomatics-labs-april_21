{
  "nbformat": 4,
  "nbformat_minor": 5,
  "metadata": {
    "kernelspec": {
      "display_name": "Python 3",
      "language": "python",
      "name": "python3"
    },
    "language_info": {
      "codemirror_mode": {
        "name": "ipython",
        "version": 3
      },
      "file_extension": ".py",
      "mimetype": "text/x-python",
      "name": "python",
      "nbconvert_exporter": "python",
      "pygments_lexer": "ipython3",
      "version": "3.8.3"
    },
    "colab": {
      "name": "Task-3.ipynb",
      "provenance": [],
      "collapsed_sections": [],
      "include_colab_link": true
    }
  },
  "cells": [
    {
      "cell_type": "markdown",
      "metadata": {
        "id": "view-in-github",
        "colab_type": "text"
      },
      "source": [
        "<a href=\"https://colab.research.google.com/github/Abhishek-009/Innomatics-labs-april_21/blob/main/Task_3.ipynb\" target=\"_parent\"><img src=\"https://colab.research.google.com/assets/colab-badge.svg\" alt=\"Open In Colab\"/></a>"
      ]
    },
    {
      "cell_type": "code",
      "metadata": {
        "colab": {
          "base_uri": "https://localhost:8080/"
        },
        "id": "fc61f30b",
        "outputId": "f8f011d7-1a3b-49d9-8e32-52c129a9a334"
      },
      "source": [
        "23#Question 1 Polar co-ordinates\n",
        "import cmath\n",
        "input1=input()\n",
        "print(abs(complex(input1)))\n",
        "print(cmath.phase(complex(input1)))"
      ],
      "id": "fc61f30b",
      "execution_count": 1,
      "outputs": [
        {
          "output_type": "stream",
          "text": [
            "1\n",
            "1.0\n",
            "0.0\n"
          ],
          "name": "stdout"
        }
      ]
    },
    {
      "cell_type": "code",
      "metadata": {
        "colab": {
          "base_uri": "https://localhost:8080/"
        },
        "id": "4545b631",
        "outputId": "fc1b653f-8385-439b-9d3f-f3a79ff4b095"
      },
      "source": [
        "#Question 2 Mod Divmod\n",
        "a=int(input())\n",
        "b=int(input())\n",
        "print(a//b)\n",
        "print(a%b)\n",
        "print(divmod(a,b)) #gives both quotient and remainder"
      ],
      "id": "4545b631",
      "execution_count": 2,
      "outputs": [
        {
          "output_type": "stream",
          "text": [
            "5\n",
            "5\n",
            "1\n",
            "0\n",
            "(1, 0)\n"
          ],
          "name": "stdout"
        }
      ]
    },
    {
      "cell_type": "code",
      "metadata": {
        "colab": {
          "base_uri": "https://localhost:8080/"
        },
        "id": "958a3f30",
        "outputId": "fa4d7df0-bc80-48f0-ae00-48309bd3c787"
      },
      "source": [
        "#Question 3 Power-mod power\n",
        "a=int(input())\n",
        "b=int(input())\n",
        "c=int(input())\n",
        "print(int(pow(a,b)))\n",
        "print(pow(a,b,c))"
      ],
      "id": "958a3f30",
      "execution_count": 4,
      "outputs": [
        {
          "output_type": "stream",
          "text": [
            "1\n",
            "2\n",
            "3\n",
            "1\n",
            "1\n"
          ],
          "name": "stdout"
        }
      ]
    },
    {
      "cell_type": "code",
      "metadata": {
        "colab": {
          "base_uri": "https://localhost:8080/"
        },
        "id": "e0031998",
        "outputId": "a097352c-407b-4222-dbea-962315249a8c"
      },
      "source": [
        "#Question 4 integers come in all sizes\n",
        "a=int(input())\n",
        "b=int(input())\n",
        "c=int(input())\n",
        "d=int(input())\n",
        "print((pow(a,b))+(pow(c,d)))"
      ],
      "id": "e0031998",
      "execution_count": 6,
      "outputs": [
        {
          "output_type": "stream",
          "text": [
            "1\n",
            "2\n",
            "3\n",
            "5\n",
            "244\n"
          ],
          "name": "stdout"
        }
      ]
    },
    {
      "cell_type": "code",
      "metadata": {
        "colab": {
          "base_uri": "https://localhost:8080/"
        },
        "id": "aa60311f",
        "outputId": "8600c8e8-ba55-4445-ed2d-2a78faa660df"
      },
      "source": [
        "#question 5 triangle quest\n",
        "for i in range(1,int(input())): \n",
        "    print(int(i*(10**i-1)/9))"
      ],
      "id": "aa60311f",
      "execution_count": 7,
      "outputs": [
        {
          "output_type": "stream",
          "text": [
            "5\n",
            "1\n",
            "22\n",
            "333\n",
            "4444\n"
          ],
          "name": "stdout"
        }
      ]
    },
    {
      "cell_type": "code",
      "metadata": {
        "colab": {
          "base_uri": "https://localhost:8080/"
        },
        "id": "bc11c380",
        "outputId": "7a3a51b6-e659-4d61-e6e9-08a0ddfabd80"
      },
      "source": [
        "#question 6 Triangle quest2\n",
        "for i in range(1,int(input())+1): #More than 2 lines will result in 0 score. Do not leave a blank line also\n",
        "    print(((10**i - 1)//9)**2)"
      ],
      "id": "bc11c380",
      "execution_count": 8,
      "outputs": [
        {
          "output_type": "stream",
          "text": [
            "5\n",
            "1\n",
            "121\n",
            "12321\n",
            "1234321\n",
            "123454321\n"
          ],
          "name": "stdout"
        }
      ]
    },
    {
      "cell_type": "code",
      "metadata": {
        "colab": {
          "base_uri": "https://localhost:8080/"
        },
        "id": "8f74d902",
        "outputId": "cc9d1fdc-965d-4899-f740-4d3a85d65c2a"
      },
      "source": [
        "#question 7 find angle MBC\n",
        "import math \n",
        "ab=int(input())\n",
        "bc=int(input())\n",
        "mcb=math.atan(ab/bc)\n",
        "mbc=mcb\n",
        "degree=math.degrees(mbc)\n",
        "print(str(round(degree))+'°')"
      ],
      "id": "8f74d902",
      "execution_count": 9,
      "outputs": [
        {
          "output_type": "stream",
          "text": [
            "5\n",
            "4\n",
            "51°\n"
          ],
          "name": "stdout"
        }
      ]
    }
  ]
}