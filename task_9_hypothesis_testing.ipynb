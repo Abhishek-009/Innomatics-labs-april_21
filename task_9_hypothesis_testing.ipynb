{
  "nbformat": 4,
  "nbformat_minor": 0,
  "metadata": {
    "kernelspec": {
      "display_name": "Python 3",
      "language": "python",
      "name": "python3"
    },
    "language_info": {
      "codemirror_mode": {
        "name": "ipython",
        "version": 3
      },
      "file_extension": ".py",
      "mimetype": "text/x-python",
      "name": "python",
      "nbconvert_exporter": "python",
      "pygments_lexer": "ipython3",
      "version": "3.8.5"
    },
    "toc": {
      "base_numbering": 1,
      "nav_menu": {},
      "number_sections": true,
      "sideBar": true,
      "skip_h1_title": false,
      "title_cell": "Table of Contents",
      "title_sidebar": "Contents",
      "toc_cell": false,
      "toc_position": {},
      "toc_section_display": true,
      "toc_window_display": false
    },
    "colab": {
      "name": "task_9_hypothesis testing.ipynb",
      "provenance": [],
      "collapsed_sections": [],
      "include_colab_link": true
    }
  },
  "cells": [
    {
      "cell_type": "markdown",
      "metadata": {
        "id": "view-in-github",
        "colab_type": "text"
      },
      "source": [
        "<a href=\"https://colab.research.google.com/github/Abhishek-009/Innomatics-labs-april_21/blob/main/task_9_hypothesis_testing.ipynb\" target=\"_parent\"><img src=\"https://colab.research.google.com/assets/colab-badge.svg\" alt=\"Open In Colab\"/></a>"
      ]
    },
    {
      "cell_type": "code",
      "metadata": {
        "id": "QCxUC1IfanE2"
      },
      "source": [
        "from scipy.stats import t\n",
        "import statistics\n",
        "import matplotlib.pyplot as plt\n",
        "import numpy as np\n",
        "from matplotlib import style\n",
        "style.use('ggplot')"
      ],
      "execution_count": null,
      "outputs": []
    },
    {
      "cell_type": "markdown",
      "metadata": {
        "id": "v_sjS3fXanE7"
      },
      "source": [
        "Q-1: Pista House selling Hyderabadi Chicken Dum biryani claims that each parcel packet has 500 grams of biryani (also mentioned on the label of packet). You are sceptic of their claims and believe that on average each packet does not contain 500 grams of biryani. How do you prove your claim?"
      ]
    },
    {
      "cell_type": "markdown",
      "metadata": {
        "id": "aqGAUXY0anE8"
      },
      "source": [
        "Step 1:"
      ]
    },
    {
      "cell_type": "markdown",
      "metadata": {
        "id": "HrbxYIcyanE9"
      },
      "source": [
        "Alternate Hypothesis :\n",
        "$$ H_1: \\ Average \\neq 500 gms $$\n",
        "Null Hypothesis :\n",
        "$$ H_0: \\ Average = 500 gms $$"
      ]
    },
    {
      "cell_type": "markdown",
      "metadata": {
        "id": "1zSctC0-anE9"
      },
      "source": [
        " Step 2 :"
      ]
    },
    {
      "cell_type": "markdown",
      "metadata": {
        "id": "NPvXV-8manE-"
      },
      "source": [
        "\n",
        "collect the sample of size N                                                          $$ N = [456,300,489,503,363,497,508,514,313,521]$$"
      ]
    },
    {
      "cell_type": "code",
      "metadata": {
        "id": "lov5RvG6anE-",
        "outputId": "08b3c0b4-b344-4b31-d94c-fe288fe52917"
      },
      "source": [
        "#computing sample Mean :\n",
        "population_mean = 500\n",
        "samples = [456,300,489,503,363,497,508,514,313,521]\n",
        "sample_mean = (sum(samples)/len(samples))\n",
        "sample_std = 86.7847912943276\n",
        "n = 10\n",
        "sample_mean"
      ],
      "execution_count": null,
      "outputs": [
        {
          "output_type": "execute_result",
          "data": {
            "text/plain": [
              "446.4"
            ]
          },
          "metadata": {
            "tags": []
          },
          "execution_count": 1
        }
      ]
    },
    {
      "cell_type": "markdown",
      "metadata": {
        "id": "yegCSlqxanE_"
      },
      "source": [
        "Step 3 : Compute Test Statistics"
      ]
    },
    {
      "cell_type": "code",
      "metadata": {
        "id": "tuNN59BaanFA",
        "outputId": "a850c3b7-02a0-4d90-f75f-56700b1af645"
      },
      "source": [
        "statistics.stdev(samples)"
      ],
      "execution_count": null,
      "outputs": [
        {
          "output_type": "execute_result",
          "data": {
            "text/plain": [
              "86.7847912943276"
            ]
          },
          "metadata": {
            "tags": []
          },
          "execution_count": 2
        }
      ]
    },
    {
      "cell_type": "markdown",
      "metadata": {
        "id": "W6fG9p7yanFA"
      },
      "source": [
        "computed sample mean$$ \\bar{x} \\ = 446.4\\ $$"
      ]
    },
    {
      "cell_type": "markdown",
      "metadata": {
        "id": "HUrXPDWKanFB"
      },
      "source": [
        "computed standard deviation$$ {s}  = 86.784\\ $$"
      ]
    },
    {
      "cell_type": "markdown",
      "metadata": {
        "id": "RGnChfcJanFB"
      },
      "source": [
        "If population variance is unknown$$ t = \\frac{\\bar{x} - \\mu}{s/\\sqrt[2]{n}} $$"
      ]
    },
    {
      "cell_type": "markdown",
      "metadata": {
        "id": "Bl9AYYBwanFC"
      },
      "source": [
        "Step 4 :\n",
        "\n",
        "Decide ($\\alpha$)  Signidicance level :"
      ]
    },
    {
      "cell_type": "code",
      "metadata": {
        "id": "CBemFMLPanFC",
        "outputId": "a7b988bd-0458-4ea6-83ca-81fa7c64972d"
      },
      "source": [
        "confidence_level = 0.95\n",
        "alpha = 1 - confidence_level\n",
        "print(alpha)"
      ],
      "execution_count": null,
      "outputs": [
        {
          "output_type": "stream",
          "text": [
            "0.050000000000000044\n"
          ],
          "name": "stdout"
        }
      ]
    },
    {
      "cell_type": "markdown",
      "metadata": {
        "id": "fkd_etelanFD"
      },
      "source": [
        "Step 5 :\n",
        "Two-Tailed-Test  $$ H_1: \\ Average \\neq 500 gms $$"
      ]
    },
    {
      "cell_type": "code",
      "metadata": {
        "id": "GsqcohJJanFD"
      },
      "source": [
        "#caluculation of T_score\n",
        "import math\n",
        "def t_score(population_mean,sample_mean,sample_std,n):\n",
        "    numerator = sample_mean - population_mean\n",
        "    denominator = sample_std/math.sqrt(n)\n",
        "    return(numerator/denominator)"
      ],
      "execution_count": null,
      "outputs": []
    },
    {
      "cell_type": "code",
      "metadata": {
        "id": "4_sAjMraanFD",
        "outputId": "163b00b0-3eac-4dc3-e79b-23003f2307f4"
      },
      "source": [
        "print(t_score(population_mean,sample_mean,sample_std,n))"
      ],
      "execution_count": null,
      "outputs": [
        {
          "output_type": "stream",
          "text": [
            "-1.9530850977123209\n"
          ],
          "name": "stdout"
        }
      ]
    },
    {
      "cell_type": "markdown",
      "metadata": {
        "id": "TpU1kyioanFE"
      },
      "source": [
        "Computed T_score$$ {T}  = -1.9530850977123209 $$"
      ]
    },
    {
      "cell_type": "code",
      "metadata": {
        "id": "6pUucF7BanFE"
      },
      "source": [
        "T = -1.9530850977123209"
      ],
      "execution_count": null,
      "outputs": []
    },
    {
      "cell_type": "code",
      "metadata": {
        "id": "HBMUw7ZEanFF"
      },
      "source": [
        ""
      ],
      "execution_count": null,
      "outputs": []
    },
    {
      "cell_type": "code",
      "metadata": {
        "id": "4_UoAm-yanFF",
        "outputId": "3144c5c2-e777-4882-b715-819cd19ac726"
      },
      "source": [
        "alpha = 1 - 0.95\n",
        "\n",
        "t_critical = t.ppf(1-alpha/2, df = 9)\n",
        "\n",
        "print(t_critical)"
      ],
      "execution_count": null,
      "outputs": [
        {
          "output_type": "stream",
          "text": [
            "2.2621571627409915\n"
          ],
          "name": "stdout"
        }
      ]
    },
    {
      "cell_type": "markdown",
      "metadata": {
        "id": "6q0hSb40anFF"
      },
      "source": [
        "$$ Conclusion $$"
      ]
    },
    {
      "cell_type": "code",
      "metadata": {
        "id": "5G7vEFI9anFG",
        "outputId": "bb60efdc-a700-4d40-cc3c-9ae6c1094c08"
      },
      "source": [
        "if(T < -t_critical):\n",
        "    print(\"Reject Null Hypothesis\")\n",
        "else:\n",
        "    print(\"Fail to reject Null Hypothesis\")"
      ],
      "execution_count": null,
      "outputs": [
        {
          "output_type": "stream",
          "text": [
            "Fail to reject Null Hypothesis\n"
          ],
          "name": "stdout"
        }
      ]
    },
    {
      "cell_type": "markdown",
      "metadata": {
        "id": "BNv_l7M-anFG"
      },
      "source": [
        "Q-2: You have developed a new Natural Language Processing Algorithms and done a user study. You claim that the average rating given by the users is greater than 4 on a scale of 1 to 5. How do you prove this to your client? "
      ]
    },
    {
      "cell_type": "markdown",
      "metadata": {
        "id": "nB9iNQNtanFG"
      },
      "source": [
        "Step 1:"
      ]
    },
    {
      "cell_type": "markdown",
      "metadata": {
        "id": "j6mVyLmianFH"
      },
      "source": [
        "Alternate Hypothesis :\n",
        "$$ H_1: \\ Average > 4 stars $$\n",
        "Null Hypothesis :\n",
        "$$ H_0: \\ Average\\leq 4 stars $$"
      ]
    },
    {
      "cell_type": "markdown",
      "metadata": {
        "id": "oXigoRPWanFH"
      },
      "source": [
        "Step 2 :"
      ]
    },
    {
      "cell_type": "markdown",
      "metadata": {
        "id": "hbnSdlFTanFH"
      },
      "source": [
        "collect the sample of size N                                                          $$ N = [4,3,1,5,5,3,3,3,1,5]$$"
      ]
    },
    {
      "cell_type": "code",
      "metadata": {
        "id": "SvnHnbPXanFI",
        "outputId": "7320f63c-9941-4f45-fda3-b71b58ee7a9e"
      },
      "source": [
        "#computing sample Mean :\n",
        "population_mean_1 = 4\n",
        "samples_1 = [4,3,1,5,5,3,3,3,1,5]\n",
        "sample_mean_1 = (sum(samples_1)/len(samples_1))\n",
        "sample_std_1 = 1.449137674618944\n",
        "n_1 = 10\n",
        "sample_mean_1"
      ],
      "execution_count": null,
      "outputs": [
        {
          "output_type": "execute_result",
          "data": {
            "text/plain": [
              "3.3"
            ]
          },
          "metadata": {
            "tags": []
          },
          "execution_count": 9
        }
      ]
    },
    {
      "cell_type": "markdown",
      "metadata": {
        "id": "dhPA-A9xanFI"
      },
      "source": [
        "Step 3:\n",
        "Compute Test Statistics"
      ]
    },
    {
      "cell_type": "markdown",
      "metadata": {
        "id": "97kmZyRyanFI"
      },
      "source": [
        "computed sample mean$$ \\bar{x_1} \\ = 3.3\\ $$"
      ]
    },
    {
      "cell_type": "code",
      "metadata": {
        "id": "6CUKHfqlanFJ",
        "outputId": "d1b04155-36ed-4335-9dbd-cbbd2e026a69"
      },
      "source": [
        "statistics.stdev(samples_1)"
      ],
      "execution_count": null,
      "outputs": [
        {
          "output_type": "execute_result",
          "data": {
            "text/plain": [
              "1.4944341180973264"
            ]
          },
          "metadata": {
            "tags": []
          },
          "execution_count": 10
        }
      ]
    },
    {
      "cell_type": "markdown",
      "metadata": {
        "id": "WnqgYRwqanFJ"
      },
      "source": [
        "computed standard deviation$$ {s_1}  =1.4944341180973264 \\ $$"
      ]
    },
    {
      "cell_type": "markdown",
      "metadata": {
        "id": "27Pia_z5anFJ"
      },
      "source": [
        "Step 4 :\n",
        "\n",
        "Decide ($\\alpha$)  Significance level :"
      ]
    },
    {
      "cell_type": "code",
      "metadata": {
        "id": "PPYACqedanFK",
        "outputId": "cb6ca6b3-134c-4788-9344-0e80926fadfd"
      },
      "source": [
        "confidence_level = 0.95\n",
        "alpha_1 = 1 - confidence_level\n",
        "print(alpha_1)"
      ],
      "execution_count": null,
      "outputs": [
        {
          "output_type": "stream",
          "text": [
            "0.050000000000000044\n"
          ],
          "name": "stdout"
        }
      ]
    },
    {
      "cell_type": "markdown",
      "metadata": {
        "id": "Lb1J0LWcanFK"
      },
      "source": [
        "Step 5 : Right-Tailed-Test Because $$ H_1: \\ Average > 4 stars $$"
      ]
    },
    {
      "cell_type": "code",
      "metadata": {
        "id": "p3RHPXDyanFK",
        "outputId": "9580023d-b9e1-42af-91e5-96a281b63eed"
      },
      "source": [
        "#calculation of T_score\n",
        "def t_score(population_mean_1,sample_mean_1,sample_std_1,n_1):\n",
        "    numerator_1 = sample_mean_1 - population_mean_1\n",
        "    denominator_1 = sample_std_1/math.sqrt(n_1)\n",
        "    return(numerator_1/denominator_1)\n",
        "print(t_score(population_mean_1,sample_mean_1,sample_std_1,n_1))"
      ],
      "execution_count": null,
      "outputs": [
        {
          "output_type": "stream",
          "text": [
            "-1.527525231651947\n"
          ],
          "name": "stdout"
        }
      ]
    },
    {
      "cell_type": "markdown",
      "metadata": {
        "id": "kMJ932cvanFL"
      },
      "source": [
        "Computed T_score$$ {T_1}  = -1.527525231651947 $$"
      ]
    },
    {
      "cell_type": "markdown",
      "metadata": {
        "id": "hz8ggmjnanFL"
      },
      "source": [
        "$$ Right tailed test (H_1) average > 4 rating $$"
      ]
    },
    {
      "cell_type": "code",
      "metadata": {
        "id": "0Pbbb2YFanFM"
      },
      "source": [
        "T_1 = -1.527525231651947"
      ],
      "execution_count": null,
      "outputs": []
    },
    {
      "cell_type": "code",
      "metadata": {
        "id": "wETK-h5wanFM",
        "outputId": "514379b6-d871-4638-cd4b-3f45bf0c9cc4"
      },
      "source": [
        "alpha_1 = 1 - 0.95\n",
        "\n",
        "t_critical_1 = t.ppf(1-alpha, df = 9)\n",
        "\n",
        "print(t_critical_1)"
      ],
      "execution_count": null,
      "outputs": [
        {
          "output_type": "stream",
          "text": [
            "1.8331129326536335\n"
          ],
          "name": "stdout"
        }
      ]
    },
    {
      "cell_type": "markdown",
      "metadata": {
        "id": "zNLNlCalanFM"
      },
      "source": [
        "$$ Conclusion $$"
      ]
    },
    {
      "cell_type": "code",
      "metadata": {
        "id": "p3byX_N4anFN",
        "outputId": "5bae367c-d103-4ab2-90d0-7f24007240f4"
      },
      "source": [
        "if(T_1 < -t_critical_1):\n",
        "    print(\"Reject Null Hypothesis\")\n",
        "else:\n",
        "    print(\"Fail to reject Null Hypothesis\")"
      ],
      "execution_count": null,
      "outputs": [
        {
          "output_type": "stream",
          "text": [
            "Fail to reject Null Hypothesis\n"
          ],
          "name": "stdout"
        }
      ]
    },
    {
      "cell_type": "code",
      "metadata": {
        "id": "EVgGU3IVanFN"
      },
      "source": [
        ""
      ],
      "execution_count": null,
      "outputs": []
    },
    {
      "cell_type": "code",
      "metadata": {
        "id": "jUbIjuDManFN"
      },
      "source": [
        ""
      ],
      "execution_count": null,
      "outputs": []
    },
    {
      "cell_type": "markdown",
      "metadata": {
        "id": "W_qzSW2KanFN"
      },
      "source": [
        "Q-3: TATA has developed a better fuel management system for the SUV segment. They claim that with this system, on average the SUV's mileage is at least 15 km/litre?"
      ]
    },
    {
      "cell_type": "markdown",
      "metadata": {
        "id": "Fp0KWZX4anFO"
      },
      "source": [
        "Step 1:"
      ]
    },
    {
      "cell_type": "markdown",
      "metadata": {
        "id": "I6cvunDmanFO"
      },
      "source": [
        "Alternate Hypothesis (Bold claim):\n",
        "$$ H_1:  Average > 15 kmpl $$\n",
        "Null Hypothesis (Status Quo):\n",
        "$$ H_0:  Average \\leq 15 kmpl $$"
      ]
    },
    {
      "cell_type": "markdown",
      "metadata": {
        "id": "3r831N42anFP"
      },
      "source": [
        "Step 2:"
      ]
    },
    {
      "cell_type": "markdown",
      "metadata": {
        "id": "NtVX5cWzanFP"
      },
      "source": [
        "collect the sample of size N                                                          $$ N = [14,13,17,15,15,13,18,13,11,15]$$"
      ]
    },
    {
      "cell_type": "code",
      "metadata": {
        "id": "LaWfAxSyanFP",
        "outputId": "a6644c1d-93b3-4244-b1a7-8b0e44a3f99c"
      },
      "source": [
        "#computing sample Mean :\n",
        "population_mean_2 = 15\n",
        "samples_2 = [14,13,16,15,12,13,17,13,11,15]\n",
        "sample_mean_2 = (sum(samples_2)/len(samples_2))\n",
        "sample_std_2 = 1.8529256146249728\n",
        "n_2 = 10\n",
        "sample_mean_2"
      ],
      "execution_count": null,
      "outputs": [
        {
          "output_type": "execute_result",
          "data": {
            "text/plain": [
              "13.9"
            ]
          },
          "metadata": {
            "tags": []
          },
          "execution_count": 16
        }
      ]
    },
    {
      "cell_type": "markdown",
      "metadata": {
        "id": "0_T80_ChanFQ"
      },
      "source": [
        "Step 3:\n",
        "Compute Test Statistics"
      ]
    },
    {
      "cell_type": "markdown",
      "metadata": {
        "id": "PNc8kf2ZanFQ"
      },
      "source": [
        "computed sample mean$$ \\bar{x_2} \\ = 14.4\\ $$"
      ]
    },
    {
      "cell_type": "code",
      "metadata": {
        "id": "-ByeISo9anFQ",
        "outputId": "0bfc5016-a87d-4115-b83a-c48fdf143262"
      },
      "source": [
        "statistics.stdev(samples_2)"
      ],
      "execution_count": null,
      "outputs": [
        {
          "output_type": "execute_result",
          "data": {
            "text/plain": [
              "1.8529256146249728"
            ]
          },
          "metadata": {
            "tags": []
          },
          "execution_count": 17
        }
      ]
    },
    {
      "cell_type": "markdown",
      "metadata": {
        "id": "UBv0zUJQanFR"
      },
      "source": [
        "computed standard deviation$$ {s_2}  =1.8529256146249728 \\ $$"
      ]
    },
    {
      "cell_type": "markdown",
      "metadata": {
        "id": "O4ryc4lTanFR"
      },
      "source": [
        "Step 4 :\n",
        "\n",
        "Decide ($\\alpha$)  Significance level :"
      ]
    },
    {
      "cell_type": "code",
      "metadata": {
        "id": "7vozU-LHanFS",
        "outputId": "5a0f35ae-fbc0-49f3-ba68-ce8ca8c35f2f"
      },
      "source": [
        "confidence_level = 0.90\n",
        "alpha_2 = 1 - confidence_level\n",
        "print(alpha_2)"
      ],
      "execution_count": null,
      "outputs": [
        {
          "output_type": "stream",
          "text": [
            "0.09999999999999998\n"
          ],
          "name": "stdout"
        }
      ]
    },
    {
      "cell_type": "markdown",
      "metadata": {
        "id": "45t9MSUHanFS"
      },
      "source": [
        "Step 5 : Right-Tailed-Test Because\n",
        "$$H_1: 𝐴𝑣𝑒𝑟𝑎𝑔𝑒>15 Kmpl$$"
      ]
    },
    {
      "cell_type": "code",
      "metadata": {
        "id": "rI2PqMnvanFS",
        "outputId": "0695dfea-1769-4a06-a0fe-c2b9413a14b8"
      },
      "source": [
        "#calculation of T_score\n",
        "def t_score(population_mean_2,sample_mean_2,sample_std_2,n_2):\n",
        "    numerator_2 = sample_mean_2 - population_mean_2\n",
        "    denominator_2 = sample_std_2/math.sqrt(n_2)\n",
        "    return(numerator_2/denominator_2)\n",
        "print(t_score(population_mean_2,sample_mean_2,sample_std_2,n_2))"
      ],
      "execution_count": null,
      "outputs": [
        {
          "output_type": "stream",
          "text": [
            "-1.8773044091622946\n"
          ],
          "name": "stdout"
        }
      ]
    },
    {
      "cell_type": "markdown",
      "metadata": {
        "id": "VZ7y6rEcanFT"
      },
      "source": [
        "Computed T_score$$ {T_2}  = -1.8773044091622946 $$"
      ]
    },
    {
      "cell_type": "markdown",
      "metadata": {
        "id": "jhW2mafWanFT"
      },
      "source": [
        "$$ Right tailed test (H_1) average > 15kmpl $$"
      ]
    },
    {
      "cell_type": "code",
      "metadata": {
        "id": "wtnlXe8eanFU"
      },
      "source": [
        "T_2 = -1.8773044091622946"
      ],
      "execution_count": null,
      "outputs": []
    },
    {
      "cell_type": "code",
      "metadata": {
        "id": "SnMT8GJvanFU",
        "outputId": "00711970-aac9-474d-fa5f-3cb17a6b6213"
      },
      "source": [
        "alpha_2 = 1 - 0.95\n",
        "\n",
        "t_critical_2 = t.ppf(1-alpha, df = 9)\n",
        "\n",
        "print(t_critical_2)"
      ],
      "execution_count": null,
      "outputs": [
        {
          "output_type": "stream",
          "text": [
            "1.8331129326536335\n"
          ],
          "name": "stdout"
        }
      ]
    },
    {
      "cell_type": "markdown",
      "metadata": {
        "id": "gnfn8TiSanFV"
      },
      "source": [
        "\n",
        "$$ Conclusion $$\n"
      ]
    },
    {
      "cell_type": "code",
      "metadata": {
        "id": "FgkR3f-aanFV",
        "outputId": "8d64ab9a-3bc4-49a0-e716-679a71e03bb6"
      },
      "source": [
        "if(T_2 < -t_critical_2):\n",
        "    print(\"Reject Null Hypothesis\")\n",
        "else:\n",
        "    print(\"Fail to reject Null Hypothesis\")"
      ],
      "execution_count": null,
      "outputs": [
        {
          "output_type": "stream",
          "text": [
            "Reject Null Hypothesis\n"
          ],
          "name": "stdout"
        }
      ]
    },
    {
      "cell_type": "code",
      "metadata": {
        "id": "fh0mkHhRanFV"
      },
      "source": [
        ""
      ],
      "execution_count": null,
      "outputs": []
    },
    {
      "cell_type": "code",
      "metadata": {
        "id": "ui63_JpsanFW"
      },
      "source": [
        ""
      ],
      "execution_count": null,
      "outputs": []
    },
    {
      "cell_type": "markdown",
      "metadata": {
        "id": "jkaQqgZBanFW"
      },
      "source": [
        "Q-4: You have developed a new Machine Learning Application and claim that on average it takes less than 100 ms to predict for any future datapoint. How do you convince your client about this claim?"
      ]
    },
    {
      "cell_type": "markdown",
      "metadata": {
        "id": "Mdz3VctbanFW"
      },
      "source": [
        "Step1:"
      ]
    },
    {
      "cell_type": "markdown",
      "metadata": {
        "id": "soo3xFw-anFW"
      },
      "source": [
        "Alternate Hypothesis :\n",
        "$$ H_1: \\ Average < 100ms $$\n",
        "Null Hypothesis :\n",
        "$$ H_0: \\ Average \\geq 100ms $$"
      ]
    },
    {
      "cell_type": "markdown",
      "metadata": {
        "id": "xbOJe-MWanFX"
      },
      "source": [
        "Step 2:"
      ]
    },
    {
      "cell_type": "markdown",
      "metadata": {
        "id": "Av_u-ZPYanFX"
      },
      "source": [
        "collect the sample of size N                                                          $$ N = [140,132,99,103,125,113,96,110,96,102]$$"
      ]
    },
    {
      "cell_type": "code",
      "metadata": {
        "id": "Srl_kClTanFX",
        "outputId": "7474a63b-8595-48c1-be25-72145a50da45"
      },
      "source": [
        "#computing sample Mean :\n",
        "population_mean_3 = 100\n",
        "samples_3 = [140,132,99,103,125,113,96,110,96,102]\n",
        "sample_mean_3 = (sum(samples_3)/len(samples_3))\n",
        "sample_std_3 = 111.6\n",
        "n_3 = 10\n",
        "sample_mean_3"
      ],
      "execution_count": null,
      "outputs": [
        {
          "output_type": "execute_result",
          "data": {
            "text/plain": [
              "111.6"
            ]
          },
          "metadata": {
            "tags": []
          },
          "execution_count": 23
        }
      ]
    },
    {
      "cell_type": "markdown",
      "metadata": {
        "id": "TvsvSBbfanFY"
      },
      "source": [
        "Step 3:\n",
        "Compute Test Statistics"
      ]
    },
    {
      "cell_type": "markdown",
      "metadata": {
        "id": "Pewj3pAVanFY"
      },
      "source": [
        "computed sample mean$$ \\bar{x_3} \\ = 111.6\\ $$"
      ]
    },
    {
      "cell_type": "code",
      "metadata": {
        "id": "YNJiT8kwanFY",
        "outputId": "3edf08b4-fd11-410b-d6b3-170b0d779190"
      },
      "source": [
        "statistics.stdev(samples_3)"
      ],
      "execution_count": null,
      "outputs": [
        {
          "output_type": "execute_result",
          "data": {
            "text/plain": [
              "15.699964614255947"
            ]
          },
          "metadata": {
            "tags": []
          },
          "execution_count": 24
        }
      ]
    },
    {
      "cell_type": "markdown",
      "metadata": {
        "id": "pxU-MHf5anFY"
      },
      "source": [
        "computed standard deviation$$ {s_3}  =15.699964614255947 \\ $$"
      ]
    },
    {
      "cell_type": "markdown",
      "metadata": {
        "id": "zguj8DtlanFZ"
      },
      "source": [
        "Step 4 :\n",
        "\n",
        "Decide ($\\alpha$)  Significance level :"
      ]
    },
    {
      "cell_type": "code",
      "metadata": {
        "id": "3UWoqqSRanFZ",
        "outputId": "4ace52f4-4a37-4512-d540-3d3501869b35"
      },
      "source": [
        "confidence_level = 0.90\n",
        "alpha_3 = 1 - confidence_level\n",
        "print(alpha_3)"
      ],
      "execution_count": null,
      "outputs": [
        {
          "output_type": "stream",
          "text": [
            "0.09999999999999998\n"
          ],
          "name": "stdout"
        }
      ]
    },
    {
      "cell_type": "markdown",
      "metadata": {
        "id": "TvbH8OWcanFZ"
      },
      "source": [
        "Step 5 : Left-Tailed-Test Because\n",
        "$$H_1:𝐴𝑣𝑒𝑟𝑎𝑔𝑒<100𝑚𝑠 $$"
      ]
    },
    {
      "cell_type": "code",
      "metadata": {
        "id": "m5DEI9xJanFa",
        "outputId": "762f3aed-733f-4587-fda4-b1e6d4b8f0e0"
      },
      "source": [
        "#calculation of T_score\n",
        "def t_score(population_mean_3,sample_mean_3,sample_std_3,n_3):\n",
        "    numerator_3 = sample_mean_3 - population_mean_3\n",
        "    denominator_3 = sample_std_3/math.sqrt(n_3)\n",
        "    return(numerator_3/denominator_3)\n",
        "print(t_score(population_mean_3,sample_mean_3,sample_std_3,n_3))"
      ],
      "execution_count": null,
      "outputs": [
        {
          "output_type": "stream",
          "text": [
            "0.3286955274010142\n"
          ],
          "name": "stdout"
        }
      ]
    },
    {
      "cell_type": "markdown",
      "metadata": {
        "id": "DXgVmAEnanFa"
      },
      "source": [
        "Computed T_score$$ {T_3}  = 0.3286955274010142 $$"
      ]
    },
    {
      "cell_type": "code",
      "metadata": {
        "id": "Kj3izqbtanFa"
      },
      "source": [
        "T_3 = 0.3286955274010142"
      ],
      "execution_count": null,
      "outputs": []
    },
    {
      "cell_type": "code",
      "metadata": {
        "id": "1OAG6cOcanFb",
        "outputId": "232c39d0-b426-4a99-9b42-197b3987dbc0"
      },
      "source": [
        "alpha_3 = 1 - 0.95\n",
        "\n",
        "t_critical_3 = t.ppf(1-alpha, df = 9)\n",
        "\n",
        "print(t_critical_3)"
      ],
      "execution_count": null,
      "outputs": [
        {
          "output_type": "stream",
          "text": [
            "1.8331129326536335\n"
          ],
          "name": "stdout"
        }
      ]
    },
    {
      "cell_type": "markdown",
      "metadata": {
        "id": "typi6jDjanFb"
      },
      "source": [
        "\n",
        "$$ Conclusion $$"
      ]
    },
    {
      "cell_type": "code",
      "metadata": {
        "id": "QWOp1qO_anFb",
        "outputId": "3ac356e4-2765-4e9a-e631-cc7abd98c0d2"
      },
      "source": [
        "if(T_3 < -t_critical_3):\n",
        "    print(\"Reject Null Hypothesis\")\n",
        "else:\n",
        "    print(\"Fail to reject Null Hypothesis\")"
      ],
      "execution_count": null,
      "outputs": [
        {
          "output_type": "stream",
          "text": [
            "Fail to reject Null Hypothesis\n"
          ],
          "name": "stdout"
        }
      ]
    },
    {
      "cell_type": "code",
      "metadata": {
        "id": "my34YS5danFc"
      },
      "source": [
        ""
      ],
      "execution_count": null,
      "outputs": []
    }
  ]
}